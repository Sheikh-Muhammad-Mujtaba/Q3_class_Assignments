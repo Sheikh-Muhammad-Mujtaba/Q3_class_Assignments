{
 "cells": [
  {
   "cell_type": "markdown",
   "id": "6bca2d0e",
   "metadata": {},
   "source": [
    "## Problem Statement\n",
    "\n",
    "Fill out the function shorten(lst) which removes elements from the end of lst, which is a list, and prints each item it removes until lst is MAX_LENGTH items long. If lst is already shorter than MAX_LENGTH you should leave it unchanged. We've written a main() function for you which gets a list and passes it into your function once you run the program. For the autograder to pass you will need MAX_LENGTH to be 3, but feel free to change it around to test your program.\n",
    "\n",
    "## Solution"
   ]
  },
  {
   "cell_type": "code",
   "execution_count": null,
   "id": "7f81ece2",
   "metadata": {},
   "outputs": [],
   "source": [
    "MAX_LENGTH : int = 2\n",
    "\n",
    "def shorten(lst):\n",
    "    last_elem: str = None\n",
    "    while len(lst) > MAX_LENGTH:\n",
    "        last_elem: str = lst.pop()\n",
    "        print(f\"Item Removed: {last_elem}\")\n",
    "    print(f\"Final List: {lst}\")\n",
    "\n",
    "def get_lst():\n",
    "    \"\"\"\n",
    "    Prompts the user to enter one element of the list at a time and returns the resulting list.\n",
    "    \"\"\"\n",
    "    lst: list = []\n",
    "    elem: str = input(\"Please enter an element of the list or press enter to stop. \")\n",
    "    while elem != \"\":\n",
    "        lst.append(elem)\n",
    "        elem: str = input(\"Please enter an element of the list or press enter to stop. \")\n",
    "    return lst\n",
    "\n",
    "def main():\n",
    "    lst: list[str] = get_lst()\n",
    "    shorten(lst)\n",
    "\n",
    "\n",
    "if __name__ == '__main__':\n",
    "    main()"
   ]
  }
 ],
 "metadata": {
  "language_info": {
   "name": "python"
  }
 },
 "nbformat": 4,
 "nbformat_minor": 5
}
