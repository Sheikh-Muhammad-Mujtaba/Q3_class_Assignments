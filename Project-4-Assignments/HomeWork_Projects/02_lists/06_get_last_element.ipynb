{
 "cells": [
  {
   "cell_type": "markdown",
   "id": "464f7169",
   "metadata": {},
   "source": [
    "## Problem Statement\n",
    "\n",
    "Fill out the function get_last_element(lst) which takes in a list lst as a parameter and prints the last element in the list. The list is guaranteed to be non-empty, but there are no guarantees on its length.\n",
    "\n",
    "## Solution"
   ]
  },
  {
   "cell_type": "code",
   "execution_count": null,
   "id": "a67d40d9",
   "metadata": {},
   "outputs": [],
   "source": [
    "\n",
    "def get_last_element(lst):\n",
    "    \"\"\"\n",
    "    Prints the last element of the provided list.\n",
    "    \"\"\"\n",
    "    if len(lst) == 0:\n",
    "        print(\"The list is empty.\")\n",
    "    else:\n",
    "        print(lst[-1]) \n",
    "\n",
    "def get_lst():\n",
    "    \"\"\"\n",
    "    Prompts the user to enter one element of the list at a time and returns the resulting list.\n",
    "    \"\"\"\n",
    "    lst: list = []\n",
    "    elem: str = input(\"Please enter an element of the list or press enter to stop. \")\n",
    "    while elem != \"\":\n",
    "        lst.append(elem)\n",
    "        elem: str = input(\"Please enter an element of the list or press enter to stop. \")\n",
    "    return lst\n",
    "\n",
    "def main():\n",
    "    lst: list = get_lst()\n",
    "    get_last_element(lst)\n",
    "\n",
    "if __name__ == '__main__':\n",
    "    main()"
   ]
  }
 ],
 "metadata": {
  "language_info": {
   "name": "python"
  }
 },
 "nbformat": 4,
 "nbformat_minor": 5
}
