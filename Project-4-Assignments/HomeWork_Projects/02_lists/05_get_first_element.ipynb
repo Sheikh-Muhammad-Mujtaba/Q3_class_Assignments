{
 "cells": [
  {
   "cell_type": "markdown",
   "id": "3a92a722",
   "metadata": {},
   "source": [
    "## Problem Statement\n",
    "\n",
    "Fill out the function get_first_element(lst) which takes in a list lst as a parameter and prints the first element in the list. The list is guaranteed to be non-empty. We've written some code for you which prompts the user to input the list one element at a time.\n",
    "\n",
    "## Solution"
   ]
  },
  {
   "cell_type": "code",
   "execution_count": null,
   "id": "bc62043a",
   "metadata": {},
   "outputs": [],
   "source": [
    "def get_first_element(lst: list) -> None:\n",
    "    \"\"\"\n",
    "    Prints the first element of a provided list.\n",
    "    \"\"\"\n",
    "    if not lst:\n",
    "        return print(IndexError(\"The list is empty.\"))\n",
    "    else:\n",
    "        print(f\"The first element of the list is {lst[0]}.\") \n",
    "\n",
    "\n",
    "def get_lst() -> list:\n",
    "    \"\"\"\n",
    "    Prompts the user to enter one element of the list at a time and returns the resulting list.\n",
    "    \"\"\"\n",
    "    lst: list = []\n",
    "    elem: str = input(\"Please enter an element of the list or press enter to stop. \")\n",
    "\n",
    "    while elem != \"\":\n",
    "        lst.append(elem)\n",
    "        elem: str = input(\"Please enter an element of the list or press enter to stop. \")\n",
    "    return lst\n",
    "\n",
    "def main():\n",
    "    lst: list = get_lst()\n",
    "    get_first_element(lst)\n",
    "    \n",
    "if __name__ == '__main__':\n",
    "    main()"
   ]
  }
 ],
 "metadata": {
  "language_info": {
   "name": "python"
  }
 },
 "nbformat": 4,
 "nbformat_minor": 5
}
