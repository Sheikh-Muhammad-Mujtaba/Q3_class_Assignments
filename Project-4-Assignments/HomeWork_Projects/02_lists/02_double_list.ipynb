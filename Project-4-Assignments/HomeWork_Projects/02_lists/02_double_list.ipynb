{
 "cells": [
  {
   "cell_type": "markdown",
   "id": "3a2fa697",
   "metadata": {},
   "source": [
    "## Problem Statement\n",
    "\n",
    "Write a program that doubles each element in a list of numbers. For example, if you start with this list:\n",
    "\n",
    "numbers = [1, 2, 3, 4]\n",
    "\n",
    "You should end with this list:\n",
    "\n",
    "numbers = [2, 4, 6, 8]\n",
    "\n",
    "## Solution"
   ]
  },
  {
   "cell_type": "code",
   "execution_count": null,
   "id": "9c704840",
   "metadata": {},
   "outputs": [],
   "source": [
    "def double_numbers(numbers: list[int]) -> list[int]:\n",
    "    \"\"\"\n",
    "    Takes in a list of numbers and returns a new list with each number doubled.\n",
    "    \"\"\"\n",
    "    for i in range(len(numbers)):\n",
    "        numbers[i] = numbers[i] * 2\n",
    "        \n",
    "    return numbers\n",
    "\n",
    "def main():\n",
    "    numbers: list[int] = [1, 2, 3, 4, 5]\n",
    "    print(double_numbers(numbers))  \n",
    "   \n",
    "if __name__ == '__main__':\n",
    "    main()"
   ]
  },
  {
   "cell_type": "markdown",
   "id": "19735549",
   "metadata": {},
   "source": [
    "## ==Test Case=="
   ]
  },
  {
   "cell_type": "code",
   "execution_count": null,
   "id": "a58dd354",
   "metadata": {},
   "outputs": [],
   "source": [
    " def test_double_numbers():\n",
    "    numbers: list[int] = [1, 2, 3, 4, 5]  \n",
    "    result: list[int] = double_numbers(numbers)  \n",
    "    assert result == [2, 4, 6, 8, 10], f\"Expected [2, 4, 6, 8, 10], but got {result}\"  \n",
    "    print(\"✅ Test passed!\")"
   ]
  }
 ],
 "metadata": {
  "language_info": {
   "name": "python"
  }
 },
 "nbformat": 4,
 "nbformat_minor": 5
}
