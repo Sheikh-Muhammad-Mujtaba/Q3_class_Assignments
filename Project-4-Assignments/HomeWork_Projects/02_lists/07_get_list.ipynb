{
 "cells": [
  {
   "cell_type": "markdown",
   "id": "7b20a570",
   "metadata": {},
   "source": [
    "## Problem Statement\n",
    "\n",
    "Write a program which continuously asks the user to enter values which are added one by one into a list. When the user presses enter without typing anything, print the list.\n",
    "\n",
    "Here's a sample run (user input is in blue):\n",
    "\n",
    "Enter a value: 1 \n",
    "Enter a value: 2 \n",
    "Enter a value: 3 \n",
    "Enter a value: \n",
    "Here's the list: ['1', '2', '3']\n",
    "\n",
    "## Solution"
   ]
  },
  {
   "cell_type": "code",
   "execution_count": null,
   "id": "983b2af0",
   "metadata": {},
   "outputs": [],
   "source": [
    "def main()-> str:\n",
    "    lst: list = []  \n",
    "    val: str = input(\"Enter a value: \")  \n",
    "    while val:  \n",
    "        lst.append(val) \n",
    "        val: str = input(\"Enter a value: \")  \n",
    "        \n",
    "    print(\"Here's the list:\", lst)\n",
    "\n",
    "if __name__ == '__main__':\n",
    "    main()"
   ]
  }
 ],
 "metadata": {
  "language_info": {
   "name": "python"
  }
 },
 "nbformat": 4,
 "nbformat_minor": 5
}
