{
 "cells": [
  {
   "cell_type": "markdown",
   "id": "82cf568f",
   "metadata": {},
   "source": [
    "## Problem Statement\n",
    "\n",
    "Write a function that takes a list of numbers and returns the sum of those numbers.\n",
    "\n",
    "## Solution"
   ]
  },
  {
   "cell_type": "code",
   "execution_count": null,
   "id": "f86fd62d",
   "metadata": {},
   "outputs": [],
   "source": [
    "def add_all_numbers(numbers)-> int:\n",
    "    \"\"\"\n",
    "    Takes in a list of numbers and returns the sum of those numbers.\n",
    "    \"\"\"\n",
    "\n",
    "    total: int = 0\n",
    "    for number in numbers:\n",
    "        total += number\n",
    "\n",
    "    return total\n",
    "\n",
    "def main():\n",
    "    numbers: list[int] = [1, 2, 3, 4, 5]  \n",
    "    sum_of_numbers: int = add_all_numbers(numbers)  \n",
    "    print(sum_of_numbers)  \n",
    "    \n",
    "\n",
    "if __name__ == '__main__':\n",
    "    main()"
   ]
  }
 ],
 "metadata": {
  "language_info": {
   "name": "python"
  }
 },
 "nbformat": 4,
 "nbformat_minor": 5
}
