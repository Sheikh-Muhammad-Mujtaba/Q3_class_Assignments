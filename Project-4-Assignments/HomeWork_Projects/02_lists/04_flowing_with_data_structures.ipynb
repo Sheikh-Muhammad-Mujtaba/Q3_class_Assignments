{
 "cells": [
  {
   "cell_type": "markdown",
   "id": "14be9fcc",
   "metadata": {},
   "source": [
    "## Problem Statement\n",
    "\n",
    "In the information flow lesson, we discussed using a variable storing a number as an example of scope. We saw that changes we made to the number inside a function did not stay unless we returned it. This is true for what we call immutable data types which include things like numbers and strings.\n",
    "\n",
    "However, there are also mutable data types where changes stay even if we don't return anything. Some examples of mutable data types are lists and dictionaries. This means that you should be mindful when modifying lists and dictionaries within helper functions since their changes stay whether or not you return them.\n",
    "\n",
    "To see this in action, fill out the add_three_copies(...) function which takes a list and some data and then adds three copies of the data to the list. Don't return anything and see what happens! Compare this process to the x = change(x) example and note the differences.\n",
    "\n",
    "Here is an example run of this program (user input in bold italics):\n",
    "\n",
    "Enter a message to copy: Hello world!\n",
    "\n",
    "List before: []\n",
    "\n",
    "List after: ['Hello world!', 'Hello world!', 'Hello world!']\n",
    "\n",
    "(Note. The concept of immutable/mutable data types is called mutability. Be careful because different programming languages have different rules regarding mutability!)\n",
    "\n",
    "## Solution"
   ]
  },
  {
   "cell_type": "code",
   "execution_count": null,
   "id": "a4cd0956",
   "metadata": {},
   "outputs": [],
   "source": [
    "def add_copies(my_list: list, data: str) -> list:\n",
    "    for i in range(3):\n",
    "        my_list.append(data)\n",
    "    return my_list\n",
    "\n",
    "def main():\n",
    "    message: str= input(\"Enter a message to copy: \")\n",
    "    my_list: list = []\n",
    "    print(f\"List before: {my_list}\")\n",
    "    print(f\"List after: {add_copies(my_list, message)}\")\n",
    "    \n",
    "if __name__ == \"__main__\":\n",
    "    main()"
   ]
  },
  {
   "cell_type": "markdown",
   "id": "f756ba52",
   "metadata": {},
   "source": [
    "## ==Test Case=="
   ]
  },
  {
   "cell_type": "code",
   "execution_count": null,
   "id": "ea6cb968",
   "metadata": {},
   "outputs": [],
   "source": [
    "def test_add_copies() -> str:\n",
    "    my_list: list = []\n",
    "    add_copies(my_list, \"Hello\")\n",
    "    assert my_list == [\"Hello\", \"Hello\", \"Hello\"], f\"Expected ['Hello', 'Hello', 'Hello'], but got {my_list}\"\n",
    "    return print(\"✅ Test passed!\")"
   ]
  }
 ],
 "metadata": {
  "language_info": {
   "name": "python"
  }
 },
 "nbformat": 4,
 "nbformat_minor": 5
}
