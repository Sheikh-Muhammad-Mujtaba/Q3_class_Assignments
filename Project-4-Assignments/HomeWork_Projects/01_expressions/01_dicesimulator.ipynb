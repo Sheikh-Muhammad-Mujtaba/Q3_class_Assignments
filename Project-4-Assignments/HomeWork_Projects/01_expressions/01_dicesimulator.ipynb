{
 "cells": [
  {
   "cell_type": "markdown",
   "id": "aa715412",
   "metadata": {},
   "source": [
    "## Problem Statement\n",
    "\n",
    "Simulate rolling two dice, three times.  Prints the results of each die roll.  This program is used to show how variable scope works.\n",
    "\n",
    "## Solution"
   ]
  },
  {
   "cell_type": "code",
   "execution_count": null,
   "id": "41204cb2",
   "metadata": {},
   "outputs": [],
   "source": [
    "import random\n",
    "from typing import Tuple\n",
    "\n",
    "def roll_dice() -> Tuple[int, int]:\n",
    "    \"\"\"\n",
    "    Roll two dice and return their values.\n",
    "    \"\"\"\n",
    "    die1: int = random.randint(1, 6)\n",
    "    die2: int = random.randint(1, 6)\n",
    "    return die1, die2\n",
    "\n",
    "def main():\n",
    "    \"\"\"Main function to demonstrate variable scope with dice rolls.\"\"\"\n",
    "    die1: int = 10 \n",
    "    print(f\"die1 in main() starts as: {die1}\")\n",
    "    \n",
    "    # Roll three times\n",
    "    for i in range(1, 4):\n",
    "        d1, d2 = roll_dice()\n",
    "        total = d1 + d2\n",
    "        print(f\"Roll {i}: Die1({d1}) + Die2({d2}) = {total}\")\n",
    "    \n",
    "    print(f\"die1 in main() is still: {die1}\") \n",
    "\n",
    "if __name__ == '__main__':\n",
    "    main()"
   ]
  },
  {
   "cell_type": "markdown",
   "id": "233bd975",
   "metadata": {},
   "source": [
    "### === TEST CASES ==="
   ]
  },
  {
   "cell_type": "code",
   "execution_count": null,
   "id": "5c5cf491",
   "metadata": {},
   "outputs": [],
   "source": [
    "def test_roll_dice():\n",
    "    \"\"\"Test function to verify roll_dice behavior.\"\"\"\n",
    "    print(\"\\nRunning tests...\")\n",
    "    test_passes = True\n",
    "    \n",
    "    for _ in range(10):\n",
    "        d1, d2 = roll_dice()\n",
    "        if not (1 <= d1 <= 6) or not (1 <= d2 <= 6):\n",
    "            test_passes = False\n",
    "            print(f\"Test failed! Invalid roll: {d1}, {d2}\")\n",
    "            break\n",
    "    \n",
    "    # Test that main's die1 remains unchanged\n",
    "    main_die1 = 10\n",
    "    roll_dice()  \n",
    "    if main_die1 != 10:\n",
    "        test_passes = False\n",
    "        print(\"Test failed! Scope violation detected\")\n",
    "    \n",
    "    if test_passes:\n",
    "        print(\"All tests passed!\")\n"
   ]
  }
 ],
 "metadata": {
  "language_info": {
   "name": "python"
  }
 },
 "nbformat": 4,
 "nbformat_minor": 5
}
