{
 "cells": [
  {
   "cell_type": "markdown",
   "id": "d597c792",
   "metadata": {},
   "source": [
    "## Problem Statement\n",
    "\n",
    "Converts feet to inches. Feet is an American unit of measurement. There are 12 inches per foot. Foot is the singular, and feet is the plural.\n",
    "\n",
    "## Solution"
   ]
  },
  {
   "cell_type": "code",
   "execution_count": null,
   "id": "4b2fce16",
   "metadata": {},
   "outputs": [],
   "source": [
    "def convert_feet_to_inches(feet: float) -> float:\n",
    "    \"\"\"Convert feet to inches.\"\"\"\n",
    "    INCHES_IN_FOOT: int = 12\n",
    "    if feet < 0:\n",
    "        raise ValueError(\"Feet cannot be negative\")\n",
    "    return feet * INCHES_IN_FOOT\n",
    "\n",
    "def main():\n",
    "    \"\"\"Main function to handle user input and display output.\"\"\"\n",
    "    try:\n",
    "        feet: float = float(input(\"Enter number of feet: \"))  \n",
    "        inches: float = convert_feet_to_inches(feet) \n",
    "        print(f\"That is {inches} inches!\")\n",
    "    except ValueError as e:\n",
    "        print(f\"Error: {str(e)}\")\n",
    "\n",
    "if __name__ == '__main__':\n",
    "    main()\n",
    "    test_conversion()  "
   ]
  },
  {
   "cell_type": "markdown",
   "id": "750ea349",
   "metadata": {},
   "source": [
    "### === TEST CASES ==="
   ]
  },
  {
   "cell_type": "code",
   "execution_count": null,
   "id": "1ca469f1",
   "metadata": {},
   "outputs": [],
   "source": [
    "def test_conversion():\n",
    "    \"\"\"Test function for feet to inches conversion.\"\"\"\n",
    "    print(\"\\nRunning tests...\")\n",
    "    test_cases = [\n",
    "        (1, 12),        # 1 foot = 12 inches\n",
    "        (2.5, 30),      # 2.5 feet = 30 inches\n",
    "        (0, 0),         # 0 feet = 0 inches\n",
    "        (10.75, 129),   # 10.75 feet = 129 inches\n",
    "    ]\n",
    "    \n",
    "    edge_cases = [\n",
    "        (-1, \"negative\"),  # Should raise ValueError\n",
    "    ]\n",
    "    \n",
    "    passed = True\n",
    "    \n",
    "    # Test normal cases\n",
    "    for feet, expected in test_cases:\n",
    "        try:\n",
    "            result = convert_feet_to_inches(feet)\n",
    "            if not abs(result - expected) < 0.001:\n",
    "                print(f\"Test failed: {feet} ft -> expected {expected}, got {result}\")\n",
    "                passed = False\n",
    "        except Exception as e:\n",
    "            print(f\"Test failed: Unexpected exception for {feet} ft: {str(e)}\")\n",
    "            passed = False\n",
    "    \n",
    "    # Test edge cases\n",
    "    for feet, expected in edge_cases:\n",
    "        try:\n",
    "            convert_feet_to_inches(feet)\n",
    "            print(f\"Test failed: Negative input {feet} ft didn't raise exception\")\n",
    "            passed = False\n",
    "        except ValueError:\n",
    "            continue  # Expected behavior\n",
    "        except Exception as e:\n",
    "            print(f\"Test failed: Wrong exception for negative input: {str(e)}\")\n",
    "            passed = False\n",
    "    \n",
    "    if passed:\n",
    "        print(\"All tests passed!\")\n",
    "    else:\n",
    "        print(\"Some tests failed\")"
   ]
  }
 ],
 "metadata": {
  "language_info": {
   "name": "python"
  }
 },
 "nbformat": 4,
 "nbformat_minor": 5
}
