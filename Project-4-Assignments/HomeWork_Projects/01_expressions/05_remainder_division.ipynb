{
 "cells": [
  {
   "cell_type": "markdown",
   "id": "ed1f9a8b",
   "metadata": {},
   "source": [
    "## Problem Statement\n",
    "\n",
    "Ask the user for two numbers, one at a time, and then print the result of dividing the first number by the second and also the remainder of the division. \n",
    "\n",
    "Here's a sample run of the program (user input is in bold italics):\n",
    "\n",
    "Please enter an integer to be divided: 5\n",
    "\n",
    "Please enter an integer to divide by: 3\n",
    "\n",
    "The result of this division is 1 with a remainder of 2\n",
    "\n",
    "## Solution"
   ]
  },
  {
   "cell_type": "code",
   "execution_count": null,
   "id": "4b7ebef5",
   "metadata": {},
   "outputs": [],
   "source": [
    "def divide_numbers(dividend: int, divisor: int) -> tuple[int, int]:\n",
    "    quotient: int = dividend // divisor \n",
    "    remainder: int = dividend % divisor\n",
    "    return quotient, remainder\n",
    "\n",
    "def main():\n",
    "    dividend: int = int(input(\"Please enter an integer to be divided: \"))\n",
    "    divisor: int = int(input(\"Please enter an integer to divide by: \"))\n",
    "    if divisor > dividend:\n",
    "        print(\"The divisor must be less than the dividend.\")\n",
    "        return\n",
    "    \n",
    "    quotient, remainder = divide_numbers(dividend, divisor)    \n",
    "    print(\"The result of this division is \" + str(quotient) + \" with a remainder of \" + str(remainder))\n",
    "\n",
    "if __name__ == '__main__':\n",
    "    main()"
   ]
  },
  {
   "cell_type": "markdown",
   "id": "1a3885ac",
   "metadata": {},
   "source": [
    "### === TEST CASES ==="
   ]
  },
  {
   "cell_type": "code",
   "execution_count": null,
   "id": "81acc0b5",
   "metadata": {},
   "outputs": [],
   "source": [
    "def test_divide_numbers():\n",
    "    assert divide_numbers(10, 3) == (3, 1), \"Test case failed: 10 divided by 3 should be (3, 1)\"\n",
    "    assert divide_numbers(10, 5) == (2, 0), \"Test case failed: 10 divided by 5 should be (2, 0)\"\n",
    "    assert divide_numbers(10, -3) == (-4, -2), \"Test case failed: 10 divided by -3 should be (-4, -2)\"\n",
    "    print(\"✅ All test cases passed!\")"
   ]
  }
 ],
 "metadata": {
  "language_info": {
   "name": "python"
  }
 },
 "nbformat": 4,
 "nbformat_minor": 5
}
