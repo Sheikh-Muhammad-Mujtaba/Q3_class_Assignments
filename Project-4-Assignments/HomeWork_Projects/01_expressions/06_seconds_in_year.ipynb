{
 "cells": [
  {
   "cell_type": "markdown",
   "id": "d7f3aeb7",
   "metadata": {},
   "source": [
    "## Problem Statement\n",
    "\n",
    "Use Python to calculate the number of seconds in a year, and tell the user what the result is in a nice print statement that looks like this (of course the value 5 should be the calculated number instead):\n",
    "\n",
    "There are 5 seconds in a year!\n",
    "\n",
    "You should use constants for this exercise -- there are 365 days in a year, 24 hours in a day, 60 minutes in an hour, and 60 seconds per minute.\n",
    "\n",
    "## Solution"
   ]
  },
  {
   "cell_type": "code",
   "execution_count": null,
   "id": "412c6391",
   "metadata": {},
   "outputs": [],
   "source": [
    "DAYS_PER_YEAR: int = 365\n",
    "HOURS_PER_DAY: int = 24\n",
    "MIN_PER_HOUR: int = 60\n",
    "SEC_PER_MIN: int = 60\n",
    "\n",
    "def calculate_seconds_in_year() -> int:\n",
    "    \"\"\"Calculate the number of seconds in a year.\"\"\"\n",
    "    return DAYS_PER_YEAR * HOURS_PER_DAY * MIN_PER_HOUR * SEC_PER_MIN\n",
    "\n",
    "def main():\n",
    "    print(f\"There are {calculate_seconds_in_year()} seconds in a year!\")\n",
    "\n",
    "if __name__ == '__main__':\n",
    "    main()"
   ]
  },
  {
   "cell_type": "markdown",
   "id": "a2b0ba06",
   "metadata": {},
   "source": [
    "### === TEST CASES ==="
   ]
  },
  {
   "cell_type": "code",
   "execution_count": null,
   "id": "69755c87",
   "metadata": {},
   "outputs": [],
   "source": [
    "    \n",
    "def test_calculate_seconds_in_year():\n",
    "    \"\"\"Test the calculate_seconds_in_year function.\"\"\"\n",
    "    assert calculate_seconds_in_year() == 31_536_000, \"The calculation is incorrect!\"\n",
    "    print(\"✅ Test passed!\")"
   ]
  }
 ],
 "metadata": {
  "language_info": {
   "name": "python"
  }
 },
 "nbformat": 4,
 "nbformat_minor": 5
}
