{
 "cells": [
  {
   "cell_type": "markdown",
   "id": "b02a8942",
   "metadata": {},
   "source": [
    "## Problem Statement\n",
    "\n",
    "Write a program that asks the user for the lengths of the two perpendicular sides of a right triangle and outputs the length of the third side (the hypotenuse) using the Pythagorean theorem!\n",
    "\n",
    "The Pythagorean theorem, named after the ancient Greek thinker, Pythagoras, is a fundamental relation in geometry. It states that in a right triangle, the square of the hypotenuse is equal to the sum of the square of the other two sides.\n",
    "\n",
    "For instance, let's consider a right triangle ABC, with the right angle located at C. According to the Pythagorean theorem:\n",
    "\n",
    "BC ** 2 = AB ** 2 + AC ** 2\n",
    "\n",
    "Your code should read in the lengths of the sides AB and AC, and that outputs the length of the hypotenuse (BC). You will probably find math.sqrt() to be useful.\n",
    "\n",
    "Here's a sample run of the program (user input is in bold italics):\n",
    "\n",
    "Enter the length of AB: 3 \n",
    "\n",
    "Enter the length of AC: 4 \n",
    "\n",
    "The length of BC (the hypotenuse) is: 5.0\n",
    "\n",
    "## Solution"
   ]
  },
  {
   "cell_type": "code",
   "execution_count": null,
   "id": "1b7bf37c",
   "metadata": {},
   "outputs": [],
   "source": [
    "import math  \n",
    "\n",
    "def solve_expression(ab: float, ac: float) -> float:\n",
    "    \"\"\"Calculate the hypotenuse using the two sides\"\"\"\n",
    "    return math.sqrt(ab**2 + ac**2)\n",
    "\n",
    "def main():\n",
    "    try:\n",
    "        ab: float = float(input(\"Enter the length of AB: \"))\n",
    "        ac: float = float(input(\"Enter the length of AC: \"))\n",
    "        bc: float = solve_expression(ab, ac)\n",
    "        print(\"The length of BC (the hypotenuse) is: \" + str(bc))\n",
    "    except ValueError as e:\n",
    "        print(\"Error: \" + str(e))\n",
    "    \n",
    "if __name__ == '__main__':\n",
    "    main()\n"
   ]
  },
  {
   "cell_type": "markdown",
   "id": "794ff16e",
   "metadata": {},
   "source": [
    "### === TEST CASES ==="
   ]
  },
  {
   "cell_type": "code",
   "execution_count": null,
   "id": "bbf1a6df",
   "metadata": {},
   "outputs": [],
   "source": [
    "\n",
    "def test_solve_expression():\n",
    "    assert math.isclose(solve_expression(3, 4), 5.0), \"Test case 1 failed\"\n",
    "    assert math.isclose(solve_expression(5, 12), 13.0), \"Test case 2 failed\"\n",
    "    assert math.isclose(solve_expression(8, 15), 17.0), \"Test case 3 failed\"\n",
    "    assert math.isclose(solve_expression(7, 24), 25.0), \"Test case 4 failed\"\n",
    "    print(\"All test cases passed!\")"
   ]
  }
 ],
 "metadata": {
  "language_info": {
   "name": "python"
  }
 },
 "nbformat": 4,
 "nbformat_minor": 5
}
