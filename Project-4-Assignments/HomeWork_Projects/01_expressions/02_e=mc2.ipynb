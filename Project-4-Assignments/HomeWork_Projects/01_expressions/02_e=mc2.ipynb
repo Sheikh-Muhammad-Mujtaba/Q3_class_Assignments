{
 "cells": [
  {
   "cell_type": "markdown",
   "id": "c87d2529",
   "metadata": {},
   "source": [
    "## Problem Statement\n",
    "\n",
    "Write a program that continually reads in mass from the user and then outputs the equivalent energy using Einstein's mass-energy equivalence formula (E stands for energy, m stands for mass, and C is the speed of light:\n",
    "\n",
    "E = m * c**2\n",
    "\n",
    "Almost 100 years ago, Albert Einstein famously discovered that mass and energy are interchangeable and are related by the above equation. You should ask the user for mass (m) in kilograms and use a constant value for the speed of light -- C = 299792458 m/s.\n",
    "\n",
    "Here's a sample run of the program (user input is in bold italics):\n",
    "\n",
    "Enter kilos of mass: 100 \n",
    "\n",
    "e = m * C^2... \n",
    "\n",
    "m = 100.0 kg \n",
    "\n",
    "C = 299792458 m/s \n",
    "\n",
    "8.987551787368176e+18 joules of energy!\n",
    "\n",
    "## Solution\n"
   ]
  },
  {
   "cell_type": "code",
   "execution_count": null,
   "id": "3c0d94ff",
   "metadata": {},
   "outputs": [],
   "source": [
    "C: float = 299792458.0  # The speed of light in m/s \n",
    "\n",
    "def calculate_energy(mass: float) -> float:\n",
    "    \"\"\"Calculate energy using E=mc² formula.\n",
    "    Args:\n",
    "        mass: Mass in kilograms\n",
    "    Returns:Energy in joules\n",
    "    \"\"\"\n",
    "    return mass * (C ** 2)\n",
    "\n",
    "def main():\n",
    "    \"\"\"Main function to calculate energy from mass input.\"\"\"\n",
    "    try:\n",
    "        mass_in_kg: float = float(input(\"Enter kilos of mass: \"))\n",
    "        energy = calculate_energy(mass_in_kg)\n",
    "        \n",
    "        print(\"\\ne = m * C²...\")\n",
    "        print(f\"m = {mass_in_kg} kg\")\n",
    "        print(f\"C = {C} m/s\")\n",
    "        print(f\"{energy:.15e} joules of energy!\")\n",
    "    except ValueError:\n",
    "        print(\"Error: Please enter a valid number\")\n",
    "\n",
    "if __name__ == '__main__':\n",
    "    main()\n"
   ]
  },
  {
   "cell_type": "markdown",
   "id": "b7f03a58",
   "metadata": {},
   "source": [
    "### === TEST CASES ==="
   ]
  },
  {
   "cell_type": "code",
   "execution_count": null,
   "id": "c86552dd",
   "metadata": {},
   "outputs": [],
   "source": [
    "def test_energy_calculation():\n",
    "    \"\"\"Test function for energy calculations.\"\"\"\n",
    "    print(\"\\nRunning tests...\")\n",
    "    test_cases = [\n",
    "        (1.0, 8.987551787368176e+16), \n",
    "        (0.5, 4.493775893684088e+16), \n",
    "        (1e-3, 8.987551787368176e+13), \n",
    "        (1e-6, 8.987551787368176e+10),  \n",
    "    ]\n",
    "    \n",
    "    all_passed = True\n",
    "    for mass, expected in test_cases:\n",
    "        result = calculate_energy(mass)\n",
    "        if not abs(result - expected) < 1e-6:  \n",
    "            print(f\"Test failed for mass {mass} kg. Expected {expected}, got {result}\")\n",
    "            all_passed = False\n",
    "    \n",
    "    # Test that C hasn't been modified\n",
    "    if C != 299792458.0:\n",
    "        print(f\"Test failed! C was modified to {C}\")\n",
    "        all_passed = False\n",
    "    \n",
    "    if all_passed:\n",
    "        print(\"All tests passed!\")\n",
    "    else:\n",
    "        print(\"Some tests failed\")\n"
   ]
  }
 ],
 "metadata": {
  "language_info": {
   "name": "python"
  }
 },
 "nbformat": 4,
 "nbformat_minor": 5
}
