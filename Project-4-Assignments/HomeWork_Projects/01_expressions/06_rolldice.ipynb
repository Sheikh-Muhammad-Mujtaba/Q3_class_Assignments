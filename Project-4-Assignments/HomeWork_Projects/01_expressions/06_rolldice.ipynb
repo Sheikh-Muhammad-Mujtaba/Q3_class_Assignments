{
 "cells": [
  {
   "cell_type": "markdown",
   "id": "f32df4f6",
   "metadata": {},
   "source": [
    "## Problem Statement\n",
    "\n",
    "Simulate rolling two dice, and prints results of each roll as well as the total.\n",
    "\n",
    "## Solution"
   ]
  },
  {
   "cell_type": "code",
   "execution_count": null,
   "id": "a2dc8dd6",
   "metadata": {},
   "outputs": [],
   "source": [
    "import random\n",
    "\n",
    "NUM_SIDES: int = 6\n",
    "\n",
    "def get_dice_roll() -> int:\n",
    "    \"\"\"Simulates the roll of a die and returns the result.\"\"\"\n",
    "    return random.randint(1, NUM_SIDES)\n",
    "\n",
    "def main():\n",
    "    die1: int = get_dice_roll()\n",
    "    die2: int = get_dice_roll()\n",
    "    \n",
    "    total: int = die1 + die2\n",
    "    \n",
    "    print(\"Dice have\", NUM_SIDES, \"sides each.\")\n",
    "    print(\"First die:\", die1)\n",
    "    print(\"Second die:\", die2)\n",
    "    print(\"Total of two dice:\", total)\n",
    "    \n",
    "if __name__ == '__main__':\n",
    "    main()"
   ]
  },
  {
   "cell_type": "markdown",
   "id": "3d6a8b70",
   "metadata": {},
   "source": [
    "### === TEST CASES ==="
   ]
  },
  {
   "cell_type": "code",
   "execution_count": null,
   "id": "4bec7f4a",
   "metadata": {},
   "outputs": [],
   "source": [
    "def test_get_dice_roll():\n",
    "    \"\"\"Test the get_dice_roll function.\"\"\"\n",
    "    for _ in range(10):\n",
    "        roll = get_dice_roll()\n",
    "        assert 1 <= roll <= NUM_SIDES, f\"Roll {roll} is out of bounds!\"\n",
    "    print(\"✅ All tests passed!\")"
   ]
  }
 ],
 "metadata": {
  "language_info": {
   "name": "python"
  }
 },
 "nbformat": 4,
 "nbformat_minor": 5
}
