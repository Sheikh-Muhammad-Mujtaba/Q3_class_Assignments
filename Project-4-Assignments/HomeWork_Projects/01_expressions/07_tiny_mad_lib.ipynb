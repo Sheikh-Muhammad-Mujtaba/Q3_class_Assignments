{
 "cells": [
  {
   "cell_type": "markdown",
   "id": "86ccf137",
   "metadata": {},
   "source": [
    "## Problem Statement\n",
    "\n",
    "Write a program which prompts the user for an adjective, then a noun, then a verb, and then prints a fun sentence with those words!\n",
    "\n",
    "Mad Libs is a word game where players are prompted for one word at a time, and the words are eventually filled into the blanks of a word template to make an entertaining story! We've provided you with the beginning of a sentence (the SENTENCE_START constant) which will end in a user-inputted adjective, noun, and then verb.\n",
    "\n",
    "Here's a sample run (user input is in bold italics):\n",
    "\n",
    "Please type an adjective and press enter. tiny \n",
    "\n",
    "Please type a noun and press enter. plant \n",
    "\n",
    "Please type a verb and press enter. fly \n",
    "\n",
    "Code in Place is fun. I learned to program and used Python to make my tiny plant fly!\n",
    "\n",
    "## Solution"
   ]
  },
  {
   "cell_type": "code",
   "execution_count": null,
   "id": "6a68b9af",
   "metadata": {},
   "outputs": [],
   "source": [
    "SENTENCE_START: str = \"Code in Place is fun. I learned to program and used Python to make my\"\n",
    "\n",
    "\n",
    "def sentence(adjective: str, noun: str, verb: str) -> str:\n",
    "    \"\"\"Returns a sentence with the given adjective, noun, and verb.\"\"\"\n",
    "    return f\"{SENTENCE_START} {adjective} {noun} {verb}!\"\n",
    "\n",
    "\n",
    "def main():\n",
    "    adjective: str = input(\"Please type an adjective and press enter. \")\n",
    "    noun: str = input(\"Please type a noun and press enter. \")\n",
    "    verb: str = input(\"Please type a verb and press enter. \")\n",
    "\n",
    "    print(sentence(adjective, noun, verb))\n",
    "\n",
    "if __name__ == '__main__':\n",
    "    main()"
   ]
  },
  {
   "cell_type": "markdown",
   "id": "c97186ce",
   "metadata": {},
   "source": [
    "### === TEST CASES ==="
   ]
  },
  {
   "cell_type": "code",
   "execution_count": null,
   "id": "2b4e18b7",
   "metadata": {},
   "outputs": [],
   "source": [
    "def run_tests():\n",
    "    \"\"\"Run test cases for the sentence generator.\"\"\"\n",
    "    print(\"\\nRunning tests...\")\n",
    "    test_cases = [\n",
    "        (\"fun\", \"program\", \"work\",\n",
    "         \"Code in Place is fun. I learned to program and used Python to make my fun program work!\"),\n",
    "        (\"awesome\", \"code\", \"run\",\n",
    "         \"Code in Place is fun. I learned to program and used Python to make my awesome code run!\"),\n",
    "    ]\n",
    "\n",
    "    passed = 0\n",
    "    for adj, noun, verb, expected in test_cases:\n",
    "        try:\n",
    "            result = sentence(adj, noun, verb)\n",
    "            if adj and noun and verb: \n",
    "                assert result == expected, f\"Expected '{expected}', got '{result}'\"\n",
    "                passed += 1\n",
    "            else:\n",
    "                print(\n",
    "                    f\"❌ Test failed: Expected ValueError for empty input, but got result\")\n",
    "        except AssertionError as e:\n",
    "            print(f\"❌ Test failed: {str(e)}\")\n",
    "\n",
    "    print(f\"\\nTest results: {passed}/{len(test_cases)} passed\")\n",
    "    if passed == len(test_cases):\n",
    "        print(\"✅ All tests passed successfully!\")\n",
    "    else:\n",
    "        print(\"Some tests failed. Please check the output above.\")\n"
   ]
  }
 ],
 "metadata": {
  "language_info": {
   "name": "python"
  }
 },
 "nbformat": 4,
 "nbformat_minor": 5
}
