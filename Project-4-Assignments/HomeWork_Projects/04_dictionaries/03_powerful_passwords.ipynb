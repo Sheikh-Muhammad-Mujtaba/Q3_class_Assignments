{
 "cells": [
  {
   "cell_type": "markdown",
   "id": "8c934f86",
   "metadata": {},
   "source": [
    "## Problem Statement\n",
    "\n",
    "You want to be safe online and use different passwords for different websites. However, you are forgetful at times and want to make a program that can match which password belongs to which website without storing the actual password!\n",
    "\n",
    "This can be done via something called hashing. Hashing is when we take something and convert it into a different, unique identifier. This is done using a hash function. Luckily, there are several resources that can help us with this.\n",
    "\n",
    "For example, using a hash function called SHA256(...) something as simple as \n",
    "\n",
    "hello\n",
    "\n",
    "can be hashed into a much more complex \n",
    "\n",
    "2cf24dba5fb0a30e26e83b2ac5b9e29e1b161e5c1fa7425e73043362938b9824\n",
    "\n",
    "Fill out the login(...) function for a website that hashes their passwords. Login should return True if an email's stored password hash in stored_logins is the same as the hash of password_to_check.\n",
    "\n",
    "(Hint. You will need to use the provided hash_password(...) function. You don't necessarily need to know how it works, just know that hash_password(...) returns the hash for the password!)\n",
    "\n",
    "## Solution"
   ]
  },
  {
   "cell_type": "code",
   "execution_count": null,
   "id": "e08f006e",
   "metadata": {},
   "outputs": [],
   "source": [
    "from hashlib import sha256\n",
    "\n",
    "def login(email, stored_logins, password_to_check):\n",
    "    \n",
    "    if stored_logins[email] == hash_password(password_to_check):\n",
    "        return True\n",
    "    \n",
    "    return False\n",
    "\n",
    "def hash_password(password):\n",
    "    \"\"\"Hash a password using SHA-256\"\"\"\n",
    "    return sha256(password.encode()).hexdigest()\n",
    "\n",
    "def main():\n",
    "    # stored_logins is a dictionary with emails as keys and hashed passwords as values\n",
    "    stored_logins = {\n",
    "        \"example@gmail.com\": \"5e884898da28047151d0e56f8dc6292773603d0d6aabbdd62a11ef721d1542d8\",\n",
    "        \"code_in_placer@cip.org\": \"973607a4ae7b4cf7d96a100b0fb07e8519cc4f70441d41214a9f811577bb06cc\",\n",
    "        \"student@stanford.edu\": \"882c6df720fd99f5eebb1581a1cf975625cea8a160283011c0b9512bb56c95fb\"\n",
    "    }\n",
    "    \n",
    "    print(login(\"example@gmail.com\", stored_logins, \"word\"))\n",
    "    print(login(\"example@gmail.com\", stored_logins, \"password\"))\n",
    "    \n",
    "    print(login(\"code_in_placer@cip.org\", stored_logins, \"Karel\"))\n",
    "    print(login(\"code_in_placer@cip.org\", stored_logins, \"karel\"))\n",
    "    \n",
    "    print(login(\"student@stanford.edu\", stored_logins, \"password\"))\n",
    "    print(login(\"student@stanford.edu\", stored_logins, \"123!456?789\"))\n",
    "\n",
    "    user_email = input(\"Enter your email: \")\n",
    "    user_password = input(\"Enter your password: \")\n",
    "    # Check if the email exists in the stored logins\n",
    "    print(login(user_email, stored_logins, user_password))\n",
    "\n",
    "if __name__ == '__main__':\n",
    "    main()\n"
   ]
  }
 ],
 "metadata": {
  "language_info": {
   "name": "python"
  }
 },
 "nbformat": 4,
 "nbformat_minor": 5
}
