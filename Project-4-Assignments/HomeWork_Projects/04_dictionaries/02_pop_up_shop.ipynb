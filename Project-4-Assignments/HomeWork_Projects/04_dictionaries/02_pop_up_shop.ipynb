{
 "cells": [
  {
   "cell_type": "markdown",
   "id": "a1aeef73",
   "metadata": {},
   "source": [
    "## Problem Statement\n",
    "\n",
    "There's a small fruit shop nearby your house that you like to buy from. Since you buy several fruit at a time, you want to keep track of how much the fruit will cost before you go. Luckily you wrote down what fruits were available and how much one of each fruit costs. \n",
    "\n",
    "Write a program that loops through a dictionary of fruits, prompting the user to see how many of each fruit they want to buy, and then prints out the total combined cost of all of the fruits.\n",
    "\n",
    "Here is an example run of the program (user input is in bold italics):\n",
    "\n",
    "How many (apple) do you want?: 2\n",
    "\n",
    "How many (durian) do you want?: 0\n",
    "\n",
    "How many (jackfruit) do you want?: 1\n",
    "\n",
    "How many (kiwi) do you want?: 0\n",
    "\n",
    "How many (rambutan) do you want?: 1\n",
    "\n",
    "How many (mango) do you want?: 3\n",
    "\n",
    "Your total is $99.5\n",
    "\n",
    "## Solution"
   ]
  },
  {
   "cell_type": "code",
   "execution_count": null,
   "id": "f95d0e2d",
   "metadata": {},
   "outputs": [],
   "source": [
    "from typing import Dict\n",
    "\n",
    "def main():\n",
    "    \n",
    "    try:\n",
    "        fruits: Dict = {'apple': 1.5, 'durian': 50, 'jackfruit': 80, 'kiwi': 1, 'rambutan': 1.5, 'mango': 5}\n",
    "\n",
    "        total_cost: int = 0\n",
    "        for fruit_name in fruits:\n",
    "            price: int = fruits[fruit_name]\n",
    "            quantity: int = int(input(f\"How many ( {fruit_name} ) do you want to buy?: \"))\n",
    "            total_cost += (price * quantity)\n",
    "\n",
    "        print(f\"Your total is $ {total_cost}\")\n",
    "        \n",
    "    except ValueError:\n",
    "        print(\"Invalid input. Please enter a valid number.\")    \n",
    "\n",
    "if __name__ == '__main__':\n",
    "    main()\n"
   ]
  }
 ],
 "metadata": {
  "language_info": {
   "name": "python"
  }
 },
 "nbformat": 4,
 "nbformat_minor": 5
}
