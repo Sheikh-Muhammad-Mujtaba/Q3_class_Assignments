{
 "cells": [
  {
   "cell_type": "markdown",
   "id": "45ca06ea",
   "metadata": {},
   "source": [
    "## Problem Statement\n",
    "\n",
    "Write a program which asks the user what their favorite animal is, and then always responds with \"My favorite animal is also ___!\" (the blank should be filled in with the user-inputted animal, of course).\n",
    "\n",
    "Here's a sample run of the program (user input is in bold italics - note the space between the prompt and the user input!):\n",
    "\n",
    "What's your favorite animal? cow \n",
    "\n",
    "My favorite animal is also cow!\n",
    "\n",
    "## Solution"
   ]
  },
  {
   "cell_type": "code",
   "execution_count": null,
   "id": "963a3fe1",
   "metadata": {},
   "outputs": [],
   "source": [
    "def favorite_animal_response(fav_animal: str) -> str:\n",
    "    return f\"My favorite animal is also {fav_animal}!\"\n",
    "\n",
    "def main():\n",
    "    fav_animal: str = input(\"What is your favorite animal?\\n\")\n",
    "    response: str = favorite_animal_response(fav_animal)\n",
    "    print(response)\n",
    "    \n",
    "if __name__ == '__main__':\n",
    "    main()"
   ]
  },
  {
   "cell_type": "markdown",
   "id": "ca824cf7",
   "metadata": {},
   "source": [
    "### === TEST CASES ==="
   ]
  },
  {
   "cell_type": "code",
   "execution_count": null,
   "id": "3ff8c9b9",
   "metadata": {},
   "outputs": [],
   "source": [
    "def test_favorite_animal_response():\n",
    "    assert favorite_animal_response(\"Eagle\") == \"My favorite animal is also Eagle!\"\n",
    "    assert favorite_animal_response(\"Cat\") == \"My favorite animal is also Cat!\"\n",
    "    assert favorite_animal_response(\"\") == \"My favorite animal is also !\"\n",
    "    print(\"✅ All test cases passed.\")"
   ]
  }
 ],
 "metadata": {
  "language_info": {
   "name": "python"
  }
 },
 "nbformat": 4,
 "nbformat_minor": 5
}
