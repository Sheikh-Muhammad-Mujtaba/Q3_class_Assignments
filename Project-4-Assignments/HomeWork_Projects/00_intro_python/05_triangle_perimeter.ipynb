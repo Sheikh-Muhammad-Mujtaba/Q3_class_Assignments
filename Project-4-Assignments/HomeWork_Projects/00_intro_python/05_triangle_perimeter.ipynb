{
 "cells": [
  {
   "cell_type": "markdown",
   "id": "92b45c3f",
   "metadata": {},
   "source": [
    "## Problem Statement\n",
    "\n",
    "Prompt the user to enter the lengths of each side of a triangle and then calculate and print the perimeter of the triangle (the sum of all of the side lengths).\n",
    "\n",
    "Here's a sample run of the program (user input is in bold italics):\n",
    "\n",
    "What is the length of side 1? 3 \n",
    "\n",
    "What is the length of side 2? 4 \n",
    "\n",
    "What is the length of side 3? 5.5 \n",
    "\n",
    "The perimeter of the triangle is 12.5\n",
    "\n",
    "## Solution"
   ]
  },
  {
   "cell_type": "code",
   "execution_count": null,
   "id": "11d67aac",
   "metadata": {},
   "outputs": [],
   "source": [
    "def calculate_perimeter(side1, side2, side3):\n",
    "    return side1 + side2 + side3\n",
    "\n",
    "def main():\n",
    "    side1: float = float(input(\"What is the length of side 1? \"))\n",
    "    side2: float = float(input(\"What is the length of side 2? \"))\n",
    "    side3: float = float(input(\"What is the length of side 3? \"))\n",
    "\n",
    "    perimeter: str = str(calculate_perimeter(side1, side2, side3))\n",
    "    print(\"The perimeter of the triangle is \" + perimeter)\n",
    "\n",
    "    \n",
    "if __name__ == '__main__':\n",
    "    test_main()\n",
    "    main()"
   ]
  },
  {
   "cell_type": "markdown",
   "id": "5a4ffcc2",
   "metadata": {},
   "source": [
    "### === TEST CASES ==="
   ]
  },
  {
   "cell_type": "code",
   "execution_count": null,
   "id": "194e04ad",
   "metadata": {},
   "outputs": [],
   "source": [
    "def test_main():\n",
    "    # Test case 1: Integer values\n",
    "    assert calculate_perimeter(3, 4, 5) == 12.0, \"Test case 1 failed\"\n",
    "    \n",
    "    # Test case 2: Decimal values\n",
    "    assert calculate_perimeter(3.5, 4.2, 5.1) == 12.8, \"Test case 2 failed\"\n",
    "    \n",
    "    # Test case 3: Mixed values\n",
    "    assert calculate_perimeter(5, 4.5, 3.25) == 12.75, \"Test case 3 failed\"\n",
    "    \n",
    "    print(\"✅ All test cases passed!\")    \n"
   ]
  }
 ],
 "metadata": {
  "language_info": {
   "name": "python"
  }
 },
 "nbformat": 4,
 "nbformat_minor": 5
}
