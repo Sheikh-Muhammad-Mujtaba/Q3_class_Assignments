{
 "cells": [
  {
   "cell_type": "markdown",
   "id": "5f3bf300",
   "metadata": {},
   "source": [
    "## Problem Statement\n",
    "\n",
    "Write a program which prompts the user for a temperature in Fahrenheit (this can be a number with decimal places!) and outputs the temperature converted to Celsius.\n",
    "\n",
    "The Celsius scale is widely used to measure temperature, but places still use Fahrenheit. Fahrenheit is another unit for temperature, but the scale is different from Celsius -- for example, 0 degrees Celsius is 32 degrees Fahrenheit!\n",
    "\n",
    "The equation you should use for converting from Fahrenheit to Celsius is the following:\n",
    "\n",
    "degrees_celsius = (degrees_fahrenheit - 32) * 5.0/9.0\n",
    "\n",
    "(Note. The .0 after the 5 and 9 matters in the line above!!!)\n",
    "\n",
    "Here's a sample run of the program (user input is in bold italics):\n",
    "\n",
    "Enter temperature in Fahrenheit: 76 \n",
    "\n",
    "Temperature: 76.0F = 24.444444444444443C\n",
    "\n",
    "## Solution"
   ]
  },
  {
   "cell_type": "code",
   "execution_count": null,
   "id": "bb9bc8d5",
   "metadata": {},
   "outputs": [],
   "source": [
    "def convert_fahrenheit_to_celsius(degrees_fahrenheit: float) -> float:\n",
    "    degrees_celsius = (degrees_fahrenheit - 32) * 5.0/9.0\n",
    "    return degrees_celsius\n",
    "\n",
    "def main():\n",
    "    degrees_fahrenheit: float = float(input(\"Enter temperature in Fahrenheit: \"))\n",
    "    degrees_celsius = convert_fahrenheit_to_celsius(degrees_fahrenheit)\n",
    "    print(f\"Temperature: {degrees_fahrenheit}F = {degrees_celsius}C.\")\n",
    "    \n",
    "if __name__ == '__main__':\n",
    "    main()"
   ]
  },
  {
   "cell_type": "markdown",
   "id": "b6240347",
   "metadata": {},
   "source": [
    "### === TEST CASES ==="
   ]
  },
  {
   "cell_type": "code",
   "execution_count": null,
   "id": "834f7502",
   "metadata": {},
   "outputs": [],
   "source": [
    "def test_convert_fahrenheit_to_celsius():\n",
    "    assert convert_fahrenheit_to_celsius(32) == 0\n",
    "    assert convert_fahrenheit_to_celsius(212) == 100\n",
    "    assert convert_fahrenheit_to_celsius(98.6) == 37\n",
    "    assert convert_fahrenheit_to_celsius(0) == -17.77777777777778\n",
    "    assert convert_fahrenheit_to_celsius(-40) == -40\n",
    "    print(\"✅ All test cases passed.\")"
   ]
  }
 ],
 "metadata": {
  "language_info": {
   "name": "python"
  }
 },
 "nbformat": 4,
 "nbformat_minor": 5
}
