{
 "cells": [
  {
   "cell_type": "markdown",
   "id": "da0d4aa8",
   "metadata": {},
   "source": [
    "## Problem Statement\n",
    "\n",
    "Write a Python program that takes two integer inputs from the user and calculates their sum. The program should perform the following tasks:\n",
    "\n",
    "1. Prompt the user to enter the first number.\n",
    "\n",
    "2. Read the input and convert it to an integer.\n",
    "\n",
    "3. Prompt the user to enter the second number.\n",
    "\n",
    "4. Read the input and convert it to an integer.\n",
    "\n",
    "5. Calculate the sum of the two numbers.\n",
    "\n",
    "6. Print the total sum with an appropriate message.\n",
    "\n",
    "The provided solution demonstrates a working implementation of this problem, where the main() function guides the user through the process of entering two numbers and displays their sum.\n",
    "\n",
    "## Solution"
   ]
  },
  {
   "cell_type": "code",
   "execution_count": null,
   "id": "8c25caef",
   "metadata": {},
   "outputs": [],
   "source": [
    "def get_integer(prompt: str) -> int:\n",
    "    while True:\n",
    "        user_input: str = input(prompt)\n",
    "        try:\n",
    "            return int(user_input)\n",
    "        except ValueError:\n",
    "            print(f\"'{user_input}' is not a valid integer. Try again.\")\n",
    "\n",
    "    \n",
    "def add_numbers(num_one: int, num_two: int) -> int:\n",
    "    return num_one + num_two\n",
    "    \n",
    "\n",
    "def main():\n",
    "    num_one: int = get_integer(\"Enter the first integer: \")\n",
    "    num_two: int = get_integer(\"Enter the second integer: \")\n",
    "    total: int = add_numbers(num_one, num_two)\n",
    "    \n",
    "    print(f\"The sum of {num_one} and {num_two} is {total}.\")\n",
    "        \n",
    "if __name__ == '__main__':\n",
    "    main()"
   ]
  },
  {
   "cell_type": "markdown",
   "id": "7c6a2b8a",
   "metadata": {},
   "source": [
    "### === TEST CASES ===\n"
   ]
  },
  {
   "cell_type": "code",
   "execution_count": null,
   "id": "61fc8baa",
   "metadata": {},
   "outputs": [],
   "source": [
    "\n",
    "def test_add_numbers():\n",
    "    assert add_numbers(3, 5) == 8\n",
    "    assert add_numbers(-1, 1) == 0\n",
    "    assert add_numbers(0, 0) == 0\n",
    "    assert add_numbers(999, 1) == 1000\n",
    "    print(\"✅ All test cases passed.\")"
   ]
  }
 ],
 "metadata": {
  "language_info": {
   "name": "python"
  }
 },
 "nbformat": 4,
 "nbformat_minor": 5
}
