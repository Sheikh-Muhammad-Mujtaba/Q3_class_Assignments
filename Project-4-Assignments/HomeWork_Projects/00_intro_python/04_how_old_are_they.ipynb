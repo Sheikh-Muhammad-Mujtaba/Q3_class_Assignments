{
 "cells": [
  {
   "cell_type": "markdown",
   "id": "ae1e6bdd",
   "metadata": {},
   "source": [
    "## Problem Statement\n",
    "\n",
    "Write a program to solve this age-related riddle!\n",
    "\n",
    "Anton, Beth, Chen, Drew, and Ethan are all friends. Their ages are as follows:\n",
    "\n",
    "Anton is 21 years old.\n",
    "\n",
    "Beth is 6 years older than Anton.\n",
    "\n",
    "Chen is 20 years older than Beth.\n",
    "\n",
    "Drew is as old as Chen's age plus Anton's age.\n",
    "\n",
    "Ethan is the same age as Chen.\n",
    "\n",
    "Your code should store each person's age to a variable and print their names and ages at the end. The autograder is sensitive to capitalization and punctuation, be careful! Your solution should look like this (the below numbers are made up -- your solution should have the correct values!):\n",
    "\n",
    "\n",
    "```\n",
    "Anton is 3\n",
    "\n",
    "Beth is 4\n",
    "\n",
    "Chen is 5\n",
    "\n",
    "Drew is 6\n",
    "\n",
    "Ethan is 7\n",
    "```\n",
    "\n",
    "## Solution"
   ]
  },
  {
   "cell_type": "code",
   "execution_count": null,
   "id": "d10d97dc",
   "metadata": {},
   "outputs": [],
   "source": [
    "def main():\n",
    "    anton : int = 21 \n",
    "    beth : int = 6 + anton  \n",
    "    chen : int = 20 + beth  \n",
    "    drew  : int= chen + anton \n",
    "    ethan : int = chen  \n",
    "\n",
    "    output = [\n",
    "        \"Anton is \" + str(anton),\n",
    "        \"Beth is \" + str(beth),\n",
    "        \"Chen is \" + str(chen),\n",
    "        \"Drew is \" + str(drew),\n",
    "        \"Ethan is \" + str(ethan)\n",
    "    ]\n",
    "    \n",
    "    for line in output:\n",
    "        print(line)\n",
    "    return output\n",
    "    \n",
    "if __name__ == '__main__':\n",
    "    main()"
   ]
  },
  {
   "cell_type": "markdown",
   "id": "2d8b66ec",
   "metadata": {},
   "source": [
    "### === TEST CASES ==="
   ]
  },
  {
   "cell_type": "code",
   "execution_count": null,
   "id": "0fb4af31",
   "metadata": {},
   "outputs": [],
   "source": [
    "def test():\n",
    "    expected = [\n",
    "        \"Anton is 21\",\n",
    "        \"Beth is 27\",\n",
    "        \"Chen is 47\",\n",
    "        \"Drew is 68\",\n",
    "        \"Ethan is 47\"\n",
    "    ]\n",
    "    actual = main()\n",
    "    assert actual == expected, f\"Expected {expected}, got {actual}\"\n",
    "    print(\"✅ All test cases passed.\")"
   ]
  }
 ],
 "metadata": {
  "language_info": {
   "name": "python"
  }
 },
 "nbformat": 4,
 "nbformat_minor": 5
}
