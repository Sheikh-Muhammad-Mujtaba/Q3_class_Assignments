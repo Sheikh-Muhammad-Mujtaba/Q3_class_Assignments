{
 "cells": [
  {
   "cell_type": "markdown",
   "id": "f17d3700",
   "metadata": {},
   "source": [
    "## Problem Statement\n",
    "\n",
    "Ask the user for a number and print its square (the product of the number times itself).\n",
    "\n",
    "Here's a sample run of the program (user input is in bold italics):\n",
    "\n",
    "Type a number to see its square: 4 \n",
    "\n",
    "4.0 squared is 16.0\n",
    "\n",
    "## Solution"
   ]
  },
  {
   "cell_type": "code",
   "execution_count": null,
   "id": "411cb3db",
   "metadata": {},
   "outputs": [],
   "source": [
    "def squared(num):\n",
    "    return num ** 2\n",
    "\n",
    "def main():\n",
    "    num: float = float(input(\"Type a number to see its square: \")) \n",
    "    print(f\"{num} squared is {squared(num)}\")     \n",
    "    \n",
    "if __name__ == '__main__':\n",
    "    main()\n",
    "    "
   ]
  },
  {
   "cell_type": "markdown",
   "id": "3167ecb3",
   "metadata": {},
   "source": [
    "### === TEST CASES ==="
   ]
  },
  {
   "cell_type": "code",
   "execution_count": null,
   "id": "f0df9836",
   "metadata": {},
   "outputs": [],
   "source": [
    "def test():\n",
    "    assert squared(2) == 4, \"Test case 3 failed\"\n",
    "    assert squared(4) == 16, \"Test case 3 failed\"\n",
    "    assert squared(6) == 36, \"Test case 3 failed\"\n",
    "\n",
    "    print(\"✅ All test cases passed!\")    "
   ]
  }
 ],
 "metadata": {
  "language_info": {
   "name": "python"
  }
 },
 "nbformat": 4,
 "nbformat_minor": 5
}
