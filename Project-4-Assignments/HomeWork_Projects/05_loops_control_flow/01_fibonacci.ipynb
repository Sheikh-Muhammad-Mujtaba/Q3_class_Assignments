{
 "cells": [
  {
   "cell_type": "markdown",
   "id": "169ee68e",
   "metadata": {},
   "source": [
    "## Problem Statement\n",
    "\n",
    "Write a program to print terms in the Fibonacci sequence up to a maximum value.\n",
    "\n",
    "In the 13th century, the Italian mathematician Leonardo Fibonacci, as a way to explain the geometric growth of a population of rabbits, devised a mathematical sequence that now bears his name. The first two terms in this sequence, Fib(0) and Fib(1), are 0 and 1, and every subsequent term is the sum of the preceding two. Thus, the first several terms in the Fibonacci sequence look like this:\n",
    "\n",
    "Fib(0) = 0\n",
    "Fib(1) = 1\n",
    "Fib(2) = 1 = 0 + 1\n",
    "Fib(3) = 2 = 1 + 1\n",
    "Fib(4) = 3 = 1 + 2\n",
    "Fib(5) = 5 = 2 + 3\n",
    "\n",
    "Write a program that displays the terms in the Fibonacci sequence, starting with Fib(0) and continuing as long as the terms are less than 10,000 (you should store this value as a constant!). Thus, your program should produce the following sample run:\n",
    "\n",
    "0 \n",
    "1 \n",
    "1 \n",
    "2 \n",
    "3 \n",
    "5 \n",
    "8 \n",
    "13\n",
    "21 \n",
    "34 \n",
    "55 \n",
    "89 \n",
    "144 \n",
    "233 \n",
    "377 \n",
    "610 \n",
    "987 \n",
    "1597 \n",
    "2584 \n",
    "4181\n",
    "6765\n",
    "\n",
    "## Solution"
   ]
  },
  {
   "cell_type": "code",
   "execution_count": null,
   "id": "f06d28b9",
   "metadata": {},
   "outputs": [],
   "source": [
    "MAX_TERM_VALUE : int = 10000\n",
    "\n",
    "def main():\n",
    "    \n",
    "    curr_term: int = 0  \n",
    "    next_term: int = 1  \n",
    "    \n",
    "    while curr_term <= MAX_TERM_VALUE:\n",
    "        print(curr_term)\n",
    "        term_after_next: int = curr_term + next_term\n",
    "        curr_term: int = next_term\n",
    "        next_term: int = term_after_next\n",
    "\n",
    "if __name__ == '__main__':\n",
    "    main()"
   ]
  }
 ],
 "metadata": {
  "language_info": {
   "name": "python"
  }
 },
 "nbformat": 4,
 "nbformat_minor": 5
}
