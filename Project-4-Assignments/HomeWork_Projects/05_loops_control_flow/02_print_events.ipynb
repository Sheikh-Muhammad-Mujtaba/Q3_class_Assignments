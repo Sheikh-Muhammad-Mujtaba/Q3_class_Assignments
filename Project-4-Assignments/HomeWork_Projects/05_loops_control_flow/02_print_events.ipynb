{
 "cells": [
  {
   "cell_type": "markdown",
   "id": "c63ce863",
   "metadata": {},
   "source": [
    "## Problem Statement\n",
    "\n",
    "Write a program that prints the first 20 even numbers. There are several correct approaches, but they all use a loop of some sort. Do no write twenty print statements\n",
    "\n",
    "The first even number is 0:\n",
    "\n",
    "0\n",
    "2\n",
    "4\n",
    "6\n",
    "8\n",
    "10\n",
    "12\n",
    "14\n",
    "16\n",
    "18\n",
    "20\n",
    "22\n",
    "24\n",
    "26\n",
    "28\n",
    "30\n",
    "32\n",
    "34\n",
    "36\n",
    "38\n",
    "\n",
    "## Solution"
   ]
  },
  {
   "cell_type": "code",
   "execution_count": null,
   "id": "850b3090",
   "metadata": {},
   "outputs": [],
   "source": [
    "def main():\n",
    "    # for i in range(20):\n",
    "    #     print(i * 2)  \n",
    "    print(*[i * 2 for i in range(20)], sep=\"\\n\") \n",
    "   \n",
    "if __name__ == \"__main__\":\n",
    "    main()"
   ]
  }
 ],
 "metadata": {
  "language_info": {
   "name": "python"
  }
 },
 "nbformat": 4,
 "nbformat_minor": 5
}
