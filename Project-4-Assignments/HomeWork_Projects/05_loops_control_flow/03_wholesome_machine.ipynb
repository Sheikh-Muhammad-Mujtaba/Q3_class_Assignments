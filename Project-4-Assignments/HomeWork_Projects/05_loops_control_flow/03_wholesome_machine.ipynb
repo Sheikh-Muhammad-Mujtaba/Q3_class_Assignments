{
 "cells": [
  {
   "cell_type": "markdown",
   "id": "62a475a0",
   "metadata": {},
   "source": [
    "## Problem Statement\n",
    "\n",
    "Write a program which prompts the user to type an affirmation of your choice (we'll use \"I am capable of doing anything I put my mind to.\") until they type it correctly. Sometimes, especially in the midst of such uncertain times, we just need to be reminded that we are resilient, capable, and strong; this little Python program may be able to help!\n",
    "\n",
    "Here's a sample run of the program (user input is in blue):\n",
    "\n",
    "Please type the following affirmation: I am capable of doing anything I put my mind to. \n",
    "Hmmm \n",
    "That was not the affirmation. \n",
    "Please type the following affirmation: I am capable of doing anything I put my mind to. \n",
    "I am capable of doing anything I put my mind to. \n",
    "That's right! :)\n",
    "\n",
    "Note that you can call input() with no prompt and it will still wait for a user to type something!\n",
    "\n",
    "## Solution"
   ]
  },
  {
   "cell_type": "code",
   "execution_count": null,
   "id": "25f4b92c",
   "metadata": {},
   "outputs": [],
   "source": [
    "AFFIRMATION : str = \"I am capable of doing anything I put my mind to.\"\n",
    "\n",
    "def main():\n",
    "    print(\"Please type the following affirmation: \" + AFFIRMATION)\n",
    "\n",
    "    user_feedback: str = input()  \n",
    "    while user_feedback != AFFIRMATION:  \n",
    "        print(\"That was not the affirmation.\")\n",
    "\n",
    "        print(\"Please type the following affirmation: \" + AFFIRMATION)\n",
    "        user_feedback: str = input()\n",
    "\n",
    "    print(\"That's right! :)\")\n",
    "\n",
    "if __name__ == '__main__':\n",
    "    main()"
   ]
  }
 ],
 "metadata": {
  "language_info": {
   "name": "python"
  }
 },
 "nbformat": 4,
 "nbformat_minor": 5
}
