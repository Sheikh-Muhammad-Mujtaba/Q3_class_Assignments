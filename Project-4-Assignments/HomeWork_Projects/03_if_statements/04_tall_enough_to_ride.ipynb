{
 "cells": [
  {
   "cell_type": "markdown",
   "id": "06c00474",
   "metadata": {},
   "source": [
    "## Problem Statement\n",
    "\n",
    "Write a program which asks the user how tall they are and prints whether or not they're taller than a pre-specified minimum height.\n",
    "\n",
    "In amusement parks (ah, the good old pre-pandemic days...), rollercoasters frequently have minimum height requirements for safety reasons. Assume for now that the minimum height is 50 of whatever height unit you'd like\n",
    "\n",
    "Here's two sample runs (user input is in bold italics):\n",
    "\n",
    "How tall are you? 100 \n",
    "\n",
    "You're tall enough to ride!\n",
    "\n",
    "How tall are you? 10 \n",
    "\n",
    "You're not tall enough to ride, but maybe next year!\n",
    "\n",
    "(For an extra challenge, write code which will repeatedly ask a user how tall they are and tell them whether or not they're tall enough to ride, until the user doesn't enter a height at all, in which case the program stops. Curious about how to do this? See the function tall_enough_extension() in the solution code!)\n",
    "\n",
    "## Solution"
   ]
  },
  {
   "cell_type": "code",
   "execution_count": null,
   "id": "96734377",
   "metadata": {},
   "outputs": [],
   "source": [
    "MINIMUM_HEIGHT: int = 51\n",
    "\n",
    "def get_valid_height() -> float:\n",
    "    \"\"\"Prompt user for height until a valid positive number is entered.\"\"\"\n",
    "    while True:\n",
    "        height_input = input(\"How tall are you in inches? (or 'q' to quit): \").strip()\n",
    "        \n",
    "        if height_input.lower() == 'q':\n",
    "            print(\"Goodbye!\")\n",
    "            exit()\n",
    "        \n",
    "        try:\n",
    "            height = float(height_input)\n",
    "            if height <= 0:\n",
    "                print(\"Please enter a positive number.\")\n",
    "                continue\n",
    "            return height\n",
    "        except ValueError:\n",
    "            print(\"Please enter a valid number.\")\n",
    "\n",
    "def main():\n",
    "    print(\"Welcome to the Ride Height Checker!\")\n",
    "    height = get_valid_height()\n",
    "    \n",
    "    if height >= MINIMUM_HEIGHT:\n",
    "        print(\"You're tall enough to ride!\")\n",
    "    else:\n",
    "        print(f\"You need {MINIMUM_HEIGHT - height:.1f} more inches to ride. Maybe next year!\")\n",
    "\n",
    "if __name__ == '__main__':\n",
    "    main()"
   ]
  }
 ],
 "metadata": {
  "language_info": {
   "name": "python"
  }
 },
 "nbformat": 4,
 "nbformat_minor": 5
}
