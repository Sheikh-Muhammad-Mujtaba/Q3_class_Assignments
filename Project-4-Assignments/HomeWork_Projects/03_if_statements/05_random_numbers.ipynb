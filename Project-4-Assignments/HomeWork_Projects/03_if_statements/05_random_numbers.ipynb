{
 "cells": [
  {
   "cell_type": "markdown",
   "id": "62d7f30a",
   "metadata": {},
   "source": [
    "## Problem Statement\n",
    "\n",
    "Print 10 random numbers in the range 1 to 100.\n",
    "\n",
    "Here is an example run:\n",
    "\n",
    "45\n",
    "79\n",
    "61\n",
    "47\n",
    "52\n",
    "10\n",
    "16\n",
    "83\n",
    "19\n",
    "12\n",
    "\n",
    "Each time you run your program you should get different numbers\n",
    "\n",
    "81\n",
    "76\n",
    "70\n",
    "1\n",
    "27\n",
    "63\n",
    "96\n",
    "100\n",
    "32\n",
    "92\n",
    "\n",
    "Recall that the python random library has a function randint which returns an integer in the range set by the parameters (inclusive). For example this call would produce a random integer between 1 and 6, which could include 1 and could include 6:\n",
    "\n",
    "value = random.randint(1, 6)\n",
    "\n",
    "## Solution"
   ]
  },
  {
   "cell_type": "code",
   "execution_count": null,
   "id": "dfb093fa",
   "metadata": {
    "vscode": {
     "languageId": "plaintext"
    }
   },
   "outputs": [],
   "source": [
    "import random\n",
    "\n",
    "N_NUMBERS : int = 10\n",
    "MIN_VALUE : int = 1\n",
    "MAX_VALUE : int = 100\n",
    "\n",
    "def main():\n",
    "    \"\"\"Main function to generate random numbers and check if they are prime.\"\"\"\n",
    "    for i in range(N_NUMBERS):\n",
    "        number = random.randint(MIN_VALUE, MAX_VALUE)\n",
    "        print(number)\n",
    "\n",
    "if __name__ == '__main__':\n",
    "    main()\n"
   ]
  }
 ],
 "metadata": {
  "language_info": {
   "name": "python"
  }
 },
 "nbformat": 4,
 "nbformat_minor": 5
}
