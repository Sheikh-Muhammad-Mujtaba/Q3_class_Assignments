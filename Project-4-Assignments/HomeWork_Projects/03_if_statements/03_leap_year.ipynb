{
 "cells": [
  {
   "cell_type": "markdown",
   "id": "a3309c7f",
   "metadata": {},
   "source": [
    "## Problem Statement\n",
    "\n",
    "Write a program that reads a year from the user and tells whether a given year is a leap year or not.\n",
    "\n",
    "A leap year (also known as an intercalary year or bissextile year) is a calendar year that contains an additional day (or, in the case of a lunisolar calendar, a month) added to keep the calendar year synchronized with the astronomical year or seasonal year. In the Gregorian calendar, each leap year has 366 days instead of 365, by extending February to 29 days rather than the common 28.\n",
    "\n",
    "In the Gregorian calendar, three criteria must be checked to identify leap years:\n",
    "1. The given year must be evenly divisible by 4;\n",
    "2. If the year can also be evenly divided by 100, it is NOT a leap year; unless:\n",
    "3. The year is also evenly divisible by 400. Then it is a leap year.\n",
    "\n",
    "Your code should use the above criteria to check for a leap year and then print either \"That's a leap year!\" or \"That's not a leap year.\"\n",
    "\n",
    "## Solution"
   ]
  },
  {
   "cell_type": "code",
   "execution_count": null,
   "id": "496e9afa",
   "metadata": {},
   "outputs": [],
   "source": [
    "\n",
    "def main():\n",
    "    try:\n",
    "        # Get the year to check from the user\n",
    "        year: int = int(input('Please input a year: '))\n",
    "        if year % 4 == 0:  # Checking whether the provided year is evenly divisibly by 4\n",
    "            if year % 100 == 0:  # Checking whether the provided year is evenly divisibly by 100\n",
    "                if year % 400 == 0:  # Checking whether the provided year is evenly divisibly by 400\n",
    "                    print(\"That's a leap year!\")\n",
    "                else:  # (Not divisible by 400)\n",
    "                    print(\"That's not a leap year.\")\n",
    "            else:  # (Not divisible by 100)\n",
    "                print(\"That's a leap year!\")\n",
    "        else:  # (Not divisible by 4)\n",
    "            print(\"That's not a leap year.\")\n",
    "                \n",
    "    except ValueError:\n",
    "        print(\"Please enter a valid year.\")\n",
    "        \n",
    "    \n",
    "\n",
    "if __name__ == '__main__':\n",
    "    main()\n"
   ]
  }
 ],
 "metadata": {
  "language_info": {
   "name": "python"
  }
 },
 "nbformat": 4,
 "nbformat_minor": 5
}
