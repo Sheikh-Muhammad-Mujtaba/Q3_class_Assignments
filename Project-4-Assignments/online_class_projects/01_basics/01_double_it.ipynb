{
 "cells": [
  {
   "cell_type": "markdown",
   "id": "965f7fe5",
   "metadata": {},
   "source": [
    "## Problem Statement\n",
    "\n",
    "Write a program that asks a user to enter a number. Your program will then double that number and print out the result. It will repeat that process until the value is 100 or greater.\n",
    "\n",
    "For example if the user enters the number 2 you would then print:\n",
    "\n",
    "4\n",
    "8\n",
    "16\n",
    "32\n",
    "64\n",
    "128\n",
    "\n",
    "Note that: \n",
    "\n",
    "2 doubled is 4\n",
    "\n",
    "4 doubled is 8\n",
    "\n",
    "8 doubled is 16\n",
    "\n",
    "and so on.\n",
    "\n",
    "We stop at 128 because that value is greater than 100.\n",
    "\n",
    "Maintain the current number in a variable named curr_value. When you double the number, you should be updating curr_value. Recall that you can double the value of curr_value using a line like:\n",
    "\n",
    "curr_value = curr_value * 2\n",
    "\n",
    "This program should have a while loop and the while loop condition should test if curr_value is less than 100. Thus, your program will have the line:\n",
    "\n",
    "while curr_value < 100:\n",
    "\n",
    "## Solution"
   ]
  },
  {
   "cell_type": "code",
   "execution_count": null,
   "id": "5beb825f",
   "metadata": {},
   "outputs": [],
   "source": [
    "def double_number(curr_value):\n",
    "    return curr_value * 2\n",
    "\n",
    "\n",
    "def main():\n",
    "\n",
    "    try:\n",
    "        curr_value: int = int(input(\"Enter a number: \"))\n",
    "        while curr_value < 100:\n",
    "\n",
    "            previous_value: int = curr_value\n",
    "            curr_value: int = double_number(curr_value)\n",
    "            print(f\"{previous_value} doubled is {curr_value}\")\n",
    "\n",
    "    except ValueError:\n",
    "        print(\"Please enter a valid number.\")\n",
    "\n",
    "\n",
    "if __name__ == \"__main__\":\n",
    "    main()"
   ]
  }
 ],
 "metadata": {
  "language_info": {
   "name": "python"
  }
 },
 "nbformat": 4,
 "nbformat_minor": 5
}
