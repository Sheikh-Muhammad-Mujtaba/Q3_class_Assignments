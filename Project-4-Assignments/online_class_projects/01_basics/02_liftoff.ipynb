{
 "cells": [
  {
   "cell_type": "markdown",
   "id": "4d3eda42",
   "metadata": {},
   "source": [
    "## Problem Statement\n",
    "\n",
    "Write a program that prints out the calls for a spaceship that is about to launch. Countdown from 10 to 1 and then output Liftoff!\n",
    "\n",
    "Here's a sample run of the program:\n",
    "\n",
    "10\n",
    "9\n",
    "8\n",
    "7\n",
    "6\n",
    "5\n",
    "4\n",
    "3\n",
    "2\n",
    "1\n",
    "Liftoff!\n",
    "\n",
    "There are many ways to solve this problem. One approach is to use a for loop, and to use the for loop variable i. Recall that i will keep track of how many times the for loop has completed executing its body. As an example this code:\n",
    "\n",
    "for i in range(10):\n",
    "    print(i)\n",
    "\n",
    "Will print out the values 0, 1, 2, 3, 4, 5, 6, 7, 8, 9. The values printed in liftoff are 10 minus the number of times the for loop has completed.\n",
    "\n",
    "## Solution"
   ]
  },
  {
   "cell_type": "code",
   "execution_count": null,
   "id": "b9748114",
   "metadata": {},
   "outputs": [],
   "source": [
    "def main():\n",
    "    \n",
    "\tfor i in range(1, 11)[::-1]:\n",
    "\t\tprint(i)\n",
    "\n",
    "\tprint(\"Liftoff!\")\n",
    "\n",
    "if __name__ == \"__main__\":\n",
    "    main()"
   ]
  }
 ],
 "metadata": {
  "language_info": {
   "name": "python"
  }
 },
 "nbformat": 4,
 "nbformat_minor": 5
}
