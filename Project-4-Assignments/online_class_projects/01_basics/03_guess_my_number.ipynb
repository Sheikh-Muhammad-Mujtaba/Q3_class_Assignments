{
 "cells": [
  {
   "cell_type": "markdown",
   "id": "85857722",
   "metadata": {},
   "source": [
    "## Problem Statement\n",
    "\n",
    "Guess My Number\n",
    "\n",
    "I am thinking of a number between 0 and 99...\n",
    "Enter a guess: 50\n",
    "Your guess is too high\n",
    "\n",
    "Enter a new number: 25\n",
    "Your guess is too low\n",
    "\n",
    "Enter a new number: 40\n",
    "Your guess is too low\n",
    "\n",
    "Enter a new number: 45\n",
    "Your guess is too low\n",
    "\n",
    "Enter a new number: 48\n",
    "Congrats! The number was: 48\n",
    "\n",
    "## Solution\n"
   ]
  },
  {
   "cell_type": "code",
   "execution_count": null,
   "id": "2bec7135",
   "metadata": {},
   "outputs": [],
   "source": [
    "import random\n",
    "\n",
    "\n",
    "def main():\n",
    "\n",
    "    while True:\n",
    "        try:\n",
    "            secret_number: int = random.randint(1, 99)\n",
    "\n",
    "            print(\"\\nI am thinking of a number between 1 and 99...\")\n",
    "\n",
    "            guess: int = int(input(\"Enter a guess: \"))\n",
    "\n",
    "            while guess != secret_number:\n",
    "                if guess < secret_number:\n",
    "                    print(\"Your guess is too low\")\n",
    "                else:\n",
    "                    print(\"Your guess is too high\")\n",
    "\n",
    "                guess: int = int(input(\"\\nEnter a new guess: \"))\n",
    "\n",
    "            print(f\"Congrats! The number was: {secret_number}\")\n",
    "            print(\"You guessed it!\")\n",
    "            break\n",
    "\n",
    "        except ValueError:\n",
    "            print(\"Please enter a valid integer.\")\n",
    "\n",
    "\n",
    "if __name__ == '__main__':\n",
    "    main()"
   ]
  }
 ],
 "metadata": {
  "language_info": {
   "name": "python"
  }
 },
 "nbformat": 4,
 "nbformat_minor": 5
}
