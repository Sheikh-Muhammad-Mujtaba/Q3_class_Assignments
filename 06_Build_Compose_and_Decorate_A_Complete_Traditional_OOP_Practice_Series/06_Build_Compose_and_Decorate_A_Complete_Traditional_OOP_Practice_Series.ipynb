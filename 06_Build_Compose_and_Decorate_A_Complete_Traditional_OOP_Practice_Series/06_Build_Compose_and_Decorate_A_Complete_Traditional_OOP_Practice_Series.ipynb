{
  "nbformat": 4,
  "nbformat_minor": 0,
  "metadata": {
    "colab": {
      "provenance": []
    },
    "kernelspec": {
      "name": "python3",
      "display_name": "Python 3"
    },
    "language_info": {
      "name": "python"
    }
  },
  "cells": [
    {
      "cell_type": "markdown",
      "source": [
        "<h1 style=\"font-size: 20px; text-align: center;\" >\n",
        " Assignment #06 Build Compose and Decorate A<br>\n",
        " Complete Traditional OOP Practice\n",
        "</h1>"
      ],
      "metadata": {
        "id": "bx4GFgxeNe3Z"
      }
    },
    {
      "cell_type": "markdown",
      "source": [
        "## 1. Using `self`\n",
        "### Assignment:\n",
        "Create a class `Student` with attributes `name` and `marks`. Use the `self` keyword to initialize\n",
        "these values via a constructor. Add a method `display()` that prints student details\n",
        "\n",
        "### Solution:"
      ],
      "metadata": {
        "id": "mwCwswfiQbRb"
      }
    },
    {
      "cell_type": "code",
      "source": [
        "class Student:\n",
        "\n",
        "  def __init__(self, name, marks):\n",
        "    self.name = name\n",
        "    self.marks = marks\n",
        "\n",
        "  def display(self):\n",
        "    print(f\"Name: {self.name}, \\nMarks: {self.marks}\")\n",
        "\n",
        "\n",
        "student1 = Student(\"Unknown\", 40)\n",
        "student1.display()"
      ],
      "metadata": {
        "colab": {
          "base_uri": "https://localhost:8080/"
        },
        "id": "rGJHi1BQRU5z",
        "outputId": "6ad0792d-d4e1-47a5-9ceb-4447b726213c"
      },
      "execution_count": null,
      "outputs": [
        {
          "output_type": "stream",
          "name": "stdout",
          "text": [
            "Name: Unknown, \n",
            "Marks: 40\n"
          ]
        }
      ]
    },
    {
      "cell_type": "markdown",
      "source": [
        "## 2. Using `cls`\n",
        "### Assignment:\n",
        "Create a class `Counter` that keeps track of how many objects have been created. Use a class variable and a class method with `cls` to manage and display the count.\n",
        "\n",
        "### Solution:"
      ],
      "metadata": {
        "id": "hgq2SWk2SEDq"
      }
    },
    {
      "cell_type": "code",
      "source": [
        "class Counter:\n",
        "\n",
        "  count = 0\n",
        "  def __init__(self):\n",
        "    Counter.count += 1\n",
        "\n",
        "  @classmethod\n",
        "  def display_count(cls):\n",
        "    print(f\"Total objects created: {cls.count}\")\n",
        "\n",
        "\n",
        "obj1 = Counter()\n",
        "obj2 = Counter()\n",
        "Counter.display_count()"
      ],
      "metadata": {
        "colab": {
          "base_uri": "https://localhost:8080/"
        },
        "id": "2IV8wAddTFjQ",
        "outputId": "a633f70f-9a9f-459c-9691-5351e1bd9d08"
      },
      "execution_count": null,
      "outputs": [
        {
          "output_type": "stream",
          "name": "stdout",
          "text": [
            "Total objects created: 2\n"
          ]
        }
      ]
    },
    {
      "cell_type": "markdown",
      "source": [
        "## 3. Public Variables and Methods\n",
        "### Assignment:\n",
        "Create a class `Car` with a public variable `brand` and a public method `start()`. Instantiate the class and access both from outside the class.\n",
        "\n",
        "### Solution:"
      ],
      "metadata": {
        "id": "6QGcJzRLV9d4"
      }
    },
    {
      "cell_type": "code",
      "source": [
        "class Car:\n",
        "\n",
        "  def __init__(self, brand):\n",
        "    self.brand = brand\n",
        "\n",
        "  def start(self):\n",
        "    print(f\"{self.brand} is starting...\")\n",
        "\n",
        "\n",
        "my_car = Car(\"Toyota\")\n",
        "print(my_car.brand)\n",
        "my_car.start()"
      ],
      "metadata": {
        "colab": {
          "base_uri": "https://localhost:8080/"
        },
        "id": "-pt-VDhtWUrO",
        "outputId": "cb68fe53-d53b-4dfe-ba40-339df4f017a7"
      },
      "execution_count": null,
      "outputs": [
        {
          "output_type": "stream",
          "name": "stdout",
          "text": [
            "Toyota\n",
            "Toyota is starting...\n"
          ]
        }
      ]
    },
    {
      "cell_type": "markdown",
      "source": [
        "## 4. Class Variables and Class Methods\n",
        "### Assignment:\n",
        "Create a class `Bank` with a class variable `bank_name`. Add a class method `change_bank_name(cls, name)` that allows changing the bank name. Show that it affects all instances.\n",
        "\n",
        "### Solution:"
      ],
      "metadata": {
        "id": "j2qrfccQYdsK"
      }
    },
    {
      "cell_type": "code",
      "source": [
        "class Bank:\n",
        "\n",
        "  bank_name = \"Default Bank\"\n",
        "  def __init__(self, branch):\n",
        "    self.branch = branch\n",
        "\n",
        "  @classmethod\n",
        "  def change_bank_name(cls, name):\n",
        "    cls.bank_name = name\n",
        "\n",
        "acc1 = Bank(\"Downtown\")\n",
        "acc2 = Bank(\"Uptown\")\n",
        "\n",
        "print(f\"\"\"Before changing:\n",
        "acc1.bank_name :{acc1.bank_name}\n",
        "acc2.bank_name: {acc2.bank_name}\n",
        "\"\"\")\n",
        "\n",
        "Bank.change_bank_name(\"Global Mega Bank\")\n",
        "\n",
        "print(f\"\"\"\n",
        "After changing:\n",
        "acc1.bank_name :{acc1.bank_name}\n",
        "acc2.bank_name: {acc2.bank_name}\n",
        "      \"\"\")\n"
      ],
      "metadata": {
        "colab": {
          "base_uri": "https://localhost:8080/"
        },
        "id": "dZfeFIriZMSt",
        "outputId": "93a34af8-cc73-4bfa-a447-12a971c6f75a"
      },
      "execution_count": null,
      "outputs": [
        {
          "output_type": "stream",
          "name": "stdout",
          "text": [
            "Before changing:\n",
            "acc1.bank_name :Default Bank \n",
            "acc2.bank_name: Default Bank\n",
            "\n",
            "\n",
            "After changing:\n",
            "acc1.bank_name :Global Mega Bank \n",
            "acc2.bank_name: Global Mega Bank\n",
            "      \n"
          ]
        }
      ]
    },
    {
      "cell_type": "markdown",
      "source": [
        "## 5. Static Variables and Static Methods\n",
        "### Assignment:\n",
        "Create a class `MathUtils` with a static method `add(a, b)` that returns the sum. No class or instance variables should be used.\n",
        "### Solution:"
      ],
      "metadata": {
        "id": "PvSrYryycaqa"
      }
    },
    {
      "cell_type": "code",
      "source": [
        "class MathUtils:\n",
        "\n",
        "  @staticmethod\n",
        "  def add(a, b):\n",
        "    return a ** b\n",
        "\n",
        "\n",
        "result = MathUtils.add(5, 2)\n",
        "print(f\" 5 Power 2 is = {result}\")"
      ],
      "metadata": {
        "colab": {
          "base_uri": "https://localhost:8080/"
        },
        "id": "C66yKDxXc03j",
        "outputId": "9a028f0e-fb3e-4684-bc13-00bb79afd537"
      },
      "execution_count": null,
      "outputs": [
        {
          "output_type": "stream",
          "name": "stdout",
          "text": [
            " 5 Power 2 is = 25\n"
          ]
        }
      ]
    },
    {
      "cell_type": "markdown",
      "source": [
        "## 6. Constructors and Destructors\n",
        "### Assignment:\n",
        "Create a class `Logger` that prints a message when an object is created (constructor) and another message when it is destroyed (destructor).\n",
        "\n",
        "### Solution:\n"
      ],
      "metadata": {
        "id": "a8H0kCnbeaSj"
      }
    },
    {
      "cell_type": "code",
      "source": [
        "class Logger:\n",
        "\n",
        "  def __init__(self):\n",
        "    print(\"Logger object created.\")\n",
        "\n",
        "  def __del__(self):\n",
        "    print(\"Logger object destroyed.\")\n",
        "\n",
        "log = Logger()\n",
        "del log"
      ],
      "metadata": {
        "colab": {
          "base_uri": "https://localhost:8080/"
        },
        "id": "De3YFn7Cei2o",
        "outputId": "2b43f00f-542d-4b4f-f351-9f5659dcb4e3"
      },
      "execution_count": null,
      "outputs": [
        {
          "output_type": "stream",
          "name": "stdout",
          "text": [
            "Logger object created.\n",
            "Logger object destroyed.\n"
          ]
        }
      ]
    },
    {
      "cell_type": "markdown",
      "source": [
        "## 7. Access Modifiers: Public, Private, and Protected\n",
        "### Assignment:\n",
        "\n",
        "Create a class `Employee` with:\n",
        "\n",
        "- a public variable `name`,\n",
        "\n",
        "- a protected variable `_salary`, and\n",
        "\n",
        "- a private variable `__ssn`.\n",
        "\n",
        "Try accessing all three variables from an object of the class and document what happens.\n",
        "\n",
        "### Solution:"
      ],
      "metadata": {
        "id": "1UZ-ExoSg3Oz"
      }
    },
    {
      "cell_type": "code",
      "source": [
        "class Employee:\n",
        "\n",
        "  def __init__(self, name, salary, ssn):\n",
        "    self.name = name # public\n",
        "    self._salary = salary # protected\n",
        "    self.__ssn = ssn # private\n",
        "\n",
        "emp = Employee(\"Abdullah\", 80000, \"123-45-6789\")\n",
        "print(f\"Public: {emp.name}\")\n",
        "print(f\"Protected: {emp._salary}\")\n",
        "\n",
        "# uncomment this line will rase error bcz wee can't access private variable directly.\n",
        "# print(f\"Private: {emp.__ssn}\")\n",
        "\n",
        "print(\"Private:\", emp._Employee__ssn)"
      ],
      "metadata": {
        "colab": {
          "base_uri": "https://localhost:8080/"
        },
        "id": "Xn8UreHthc9e",
        "outputId": "21d49279-dd83-4f89-c001-35a7f2bff590"
      },
      "execution_count": null,
      "outputs": [
        {
          "output_type": "stream",
          "name": "stdout",
          "text": [
            "Public: Abdullah\n",
            "Protected: 80000\n",
            "Private: 123-45-6789\n"
          ]
        }
      ]
    },
    {
      "cell_type": "markdown",
      "source": [
        "## 8. The `super()` Function\n",
        "### Assignment:\n",
        "Create a class `Person` with a constructor that sets the name. Inherit a class `Teacher` from it, add a subject field, and use `super()` to call the base class constructor.\n",
        "\n",
        "### Solution:"
      ],
      "metadata": {
        "id": "ZijoLVAFkCah"
      }
    },
    {
      "cell_type": "code",
      "source": [
        "class Person:\n",
        "\n",
        "  def __init__(self, name):\n",
        "    self.name = name\n",
        "\n",
        "class Teacher(Person):\n",
        "  def __init__(self, name, subject):\n",
        "    self.subject = subject\n",
        "    super().__init__(name)\n",
        "\n",
        "teacher = Teacher(\"Abdullah\", \"Arabic\")\n",
        "print(\"Name:\", teacher.name)\n",
        "print(\"Subject:\", teacher.subject)"
      ],
      "metadata": {
        "colab": {
          "base_uri": "https://localhost:8080/"
        },
        "id": "XL-92Ex-kt-c",
        "outputId": "c8debe36-15a2-4d57-ace8-63a6b9efb0d6"
      },
      "execution_count": null,
      "outputs": [
        {
          "output_type": "stream",
          "name": "stdout",
          "text": [
            "Name: Abdullah\n",
            "Subject: Arabic\n"
          ]
        }
      ]
    },
    {
      "cell_type": "markdown",
      "source": [
        "## 9. Abstract Classes and Methods\n",
        "### Assignment:\n",
        "Use the `abc` module to create an abstract class `Shape` with an abstract method `area()`.\n",
        "Inherit a class `Rectangle` that implements `area()`.\n",
        "\n",
        "### Solution:"
      ],
      "metadata": {
        "id": "zbHXeUQLnNQJ"
      }
    },
    {
      "cell_type": "code",
      "source": [
        "from abc import ABC, abstractmethod\n",
        "\n",
        "class Shape(ABC):\n",
        "  @abstractmethod\n",
        "  def area(self):\n",
        "    pass\n",
        "\n",
        "class Rectangle(Shape):\n",
        "  def __init__(self, width, height):\n",
        "    self.width = width\n",
        "    self.height = height\n",
        "  def area(self):\n",
        "    return self.width * self.height\n",
        "\n",
        "rect = Rectangle(5, 10)\n",
        "print(\"Area of Rectangle:\", rect.area())\n"
      ],
      "metadata": {
        "colab": {
          "base_uri": "https://localhost:8080/"
        },
        "id": "U-XPKbQIoQuw",
        "outputId": "2c9ab0f7-1eb0-43a5-97d8-a9c491d8fcf8"
      },
      "execution_count": null,
      "outputs": [
        {
          "output_type": "stream",
          "name": "stdout",
          "text": [
            "Area of Rectangle: 50\n"
          ]
        }
      ]
    },
    {
      "cell_type": "markdown",
      "source": [
        "## 10. Instance Methods\n",
        "### Assignment:\n",
        "Create a class `Dog` with instance variables `name` and `breed`. Add an instance method `bark()` that prints a message including the dog's name.\n",
        "\n",
        "### Solution:"
      ],
      "metadata": {
        "id": "5dbzyQuhQEWS"
      }
    },
    {
      "cell_type": "code",
      "source": [
        "class Dog:\n",
        "  def __init__(self, name, breed):\n",
        "    self.name = name\n",
        "    self.breed = breed\n",
        "\n",
        "  def bark(self):\n",
        "    print(f\"{self.name} is barking!\")\n",
        "\n",
        "dog = Dog(\"BOB\", \"Golden Retriever\")\n",
        "dog.bark()"
      ],
      "metadata": {
        "colab": {
          "base_uri": "https://localhost:8080/"
        },
        "id": "BkZUVO0zVZ8r",
        "outputId": "e736f615-3d80-4208-918a-79ef41a63e98"
      },
      "execution_count": null,
      "outputs": [
        {
          "output_type": "stream",
          "name": "stdout",
          "text": [
            "BOB is barking!\n"
          ]
        }
      ]
    },
    {
      "cell_type": "markdown",
      "source": [
        "## 11. Class Methods\n",
        "### Assignment:\n",
        "Create a class `Book` with a class variable `total_books`. Add a class method `increment_book_count()` to increase the count when a new book is added.\n",
        "\n",
        "### Solution:"
      ],
      "metadata": {
        "id": "wB0LkqdzWskS"
      }
    },
    {
      "cell_type": "code",
      "source": [
        "class Book:\n",
        "\n",
        "  total_books = 0\n",
        "\n",
        "  @classmethod\n",
        "  def increment_book_count(cls):\n",
        "    cls.total_books += 1\n",
        "\n",
        "Book.increment_book_count()\n",
        "Book.increment_book_count()\n",
        "print(\"Total Books:\", Book.total_books)"
      ],
      "metadata": {
        "colab": {
          "base_uri": "https://localhost:8080/"
        },
        "id": "48XeVUqjmYVO",
        "outputId": "d29bd69b-9d7c-4530-9339-4da654fa0677"
      },
      "execution_count": null,
      "outputs": [
        {
          "output_type": "stream",
          "name": "stdout",
          "text": [
            "Total Books: 2\n"
          ]
        }
      ]
    },
    {
      "cell_type": "markdown",
      "source": [
        "## 12. Static Methods\n",
        "### Assignment:\n",
        "Create a class `TemperatureConverter` with a static method `celsius_to_fahrenheit(c)` that returns the Fahrenheit value.\n",
        "\n",
        "### Solution:\n"
      ],
      "metadata": {
        "id": "nmG3E4BRmuRh"
      }
    },
    {
      "cell_type": "code",
      "source": [
        "class TemperatureConverter:\n",
        "\n",
        "  @staticmethod\n",
        "  def celsius_to_fahrenheit(c):\n",
        "    return (c * 9/5) + 32\n",
        "\n",
        "celsius = 25\n",
        "fahrenheit = TemperatureConverter.celsius_to_fahrenheit(celsius)\n",
        "print(f\"{celsius}°C = {fahrenheit}°F\")\n"
      ],
      "metadata": {
        "colab": {
          "base_uri": "https://localhost:8080/"
        },
        "id": "LQ9BzgW4nOm2",
        "outputId": "32e155b9-965c-4473-d5b4-1a6dd103e3d5"
      },
      "execution_count": null,
      "outputs": [
        {
          "output_type": "stream",
          "name": "stdout",
          "text": [
            "25°C = 77.0°F\n"
          ]
        }
      ]
    },
    {
      "cell_type": "markdown",
      "source": [
        "## 13. Composition\n",
        "### Assignment:\n",
        "Create a class `Engine` and a class `Car`. Use composition by passing an `Engine` object to the `Car` class during initialization. Access a method of the `Engine` class via the `Car` class.\n",
        "\n",
        "### Solution:"
      ],
      "metadata": {
        "id": "TqqNhDfZni1t"
      }
    },
    {
      "cell_type": "code",
      "source": [
        "class Engine:\n",
        "  def start(self):\n",
        "    return \"Engine started\"\n",
        "\n",
        "\n",
        "class Car:\n",
        "  def __init__(self, engine):\n",
        "    self.engine = engine\n",
        "\n",
        "  def start_car(self):\n",
        "    return self.engine.start()\n",
        "\n",
        "\n",
        "engine = Engine()\n",
        "car = Car(engine)\n",
        "print(car.start_car())"
      ],
      "metadata": {
        "colab": {
          "base_uri": "https://localhost:8080/"
        },
        "id": "ERc_WD7Ln-0U",
        "outputId": "6dfbc9fe-9330-42df-82d0-ff5bc4d52575"
      },
      "execution_count": null,
      "outputs": [
        {
          "output_type": "stream",
          "name": "stdout",
          "text": [
            "Engine started\n"
          ]
        }
      ]
    },
    {
      "cell_type": "markdown",
      "source": [
        "## 14. Aggregation\n",
        "### Assignment:\n",
        "Create a class `Department` and a class `Employee`. Use aggregation by having a `Department` object store a reference to an `Employee` object that exists independently of it.\n",
        "\n",
        "### Solution:"
      ],
      "metadata": {
        "id": "mkfdK86HouG2"
      }
    },
    {
      "cell_type": "code",
      "source": [
        "class Employee:\n",
        "  def __init__(self, name, role):\n",
        "    self.name = name\n",
        "    self.role = role\n",
        "\n",
        "  def display(self):\n",
        "    return f\"Employee: {self.name}, Role: {self.role}\"\n",
        "\n",
        "class Department:\n",
        "  def __init__(self, dept_name, employee):\n",
        "    self.dept_name = dept_name\n",
        "    self.employee = employee\n",
        "\n",
        "  def department_info(self):\n",
        "    return f\"Department: {self.dept_name}, Employee:{self.employee.display()}\"\n",
        "\n",
        "emp = Employee(\"Ali\", \"Software Engineer\")\n",
        "dept = Department(\"IT\", emp)\n",
        "print(dept.department_info())"
      ],
      "metadata": {
        "colab": {
          "base_uri": "https://localhost:8080/"
        },
        "id": "WXO2atzvpEmV",
        "outputId": "2ea657eb-0e66-4c78-e03e-97c29f175a11"
      },
      "execution_count": null,
      "outputs": [
        {
          "output_type": "stream",
          "name": "stdout",
          "text": [
            "Department: IT, Employee:Employee: Ali, Role: Software Engineer\n"
          ]
        }
      ]
    },
    {
      "cell_type": "markdown",
      "source": [
        "## 15. Method Resolution Order (MRO) and Diamond Inheritance\n",
        "### Assignment:\n",
        "Create four classes:\n",
        "\n",
        "- `A` with a method `show()`,\n",
        "\n",
        "- `B` and `C` that inherit from `A` and override `show()`,\n",
        "\n",
        "- `D` that inherits from both `B` and `C`.\n",
        "\n",
        "Create an object of `D` and call `show()` to observe MRO.\n",
        "\n",
        "### Solution:\n"
      ],
      "metadata": {
        "id": "X93EiXBmt3Vk"
      }
    },
    {
      "cell_type": "code",
      "source": [
        "class A:\n",
        "\n",
        "  def show(self):\n",
        "    print(\"Method in A\")\n",
        "\n",
        "class B(A):\n",
        "\n",
        "  def show(self):\n",
        "    print(\"Method in B\")\n",
        "\n",
        "class C(A):\n",
        "\n",
        "  def show(self):\n",
        "    print(\"Method in C\")\n",
        "\n",
        "class D(B, C):\n",
        "  pass\n",
        "\n",
        "obj = D()\n",
        "obj.show()"
      ],
      "metadata": {
        "colab": {
          "base_uri": "https://localhost:8080/"
        },
        "id": "NH8yCg9bugz0",
        "outputId": "13cd0e23-f6fa-449a-f2cd-c157fdf0a548"
      },
      "execution_count": null,
      "outputs": [
        {
          "output_type": "stream",
          "name": "stdout",
          "text": [
            "Method in B\n"
          ]
        }
      ]
    },
    {
      "cell_type": "markdown",
      "source": [
        "## 16. Function Decorators\n",
        "### Assignment:\n",
        "Write a decorator function `log_function_call` that prints \"Function is being called\" before a function executes. Apply it to a function `say_hello()`.\n",
        "\n",
        "### Solution:"
      ],
      "metadata": {
        "id": "p0KV10clvJ0h"
      }
    },
    {
      "cell_type": "code",
      "source": [
        "def log_function_call(func):\n",
        "  def wrapper():\n",
        "    print(\"Function is being called\")\n",
        "    func()\n",
        "  return wrapper\n",
        "\n",
        "@log_function_call\n",
        "def say_hello():\n",
        "  print(\"Hello, world!\")\n",
        "\n",
        "say_hello()"
      ],
      "metadata": {
        "colab": {
          "base_uri": "https://localhost:8080/"
        },
        "id": "OndDzmhqvZwn",
        "outputId": "61054c61-830e-429f-c9d6-60ecf40d2376"
      },
      "execution_count": null,
      "outputs": [
        {
          "output_type": "stream",
          "name": "stdout",
          "text": [
            "Function is being called\n",
            "Hello, world!\n"
          ]
        }
      ]
    },
    {
      "cell_type": "markdown",
      "source": [
        "## 17. Class Decorators\n",
        "### Assignment:\n",
        "Create a class decorator `add_greeting` that modifies a class to add a `greet()` method returning \"Hello from Decorator!\". Apply it to a class `Person`.\n",
        "\n",
        "### Solution:"
      ],
      "metadata": {
        "id": "qEzkb79Xv7i2"
      }
    },
    {
      "cell_type": "code",
      "source": [
        "def add_greeting(cls):\n",
        "\n",
        "  def greet(self):\n",
        "    return \"Hello from Decorator!\"\n",
        "\n",
        "  cls.greet = greet\n",
        "  return cls\n",
        "\n",
        "@add_greeting\n",
        "class Person:\n",
        "\n",
        "  def __init__(self, name):\n",
        "    self.name = name\n",
        "\n",
        "p = Person(\"Ameer\")\n",
        "print(p.greet())"
      ],
      "metadata": {
        "colab": {
          "base_uri": "https://localhost:8080/"
        },
        "id": "W7fgdvafwKaH",
        "outputId": "0caa542f-08c6-451c-9c64-a8a039421f90"
      },
      "execution_count": null,
      "outputs": [
        {
          "output_type": "stream",
          "name": "stdout",
          "text": [
            "Hello from Decorator!\n"
          ]
        }
      ]
    },
    {
      "cell_type": "markdown",
      "source": [
        "## 18. Property Decorators: `@property`, `@setter`, and `@deleter`\n",
        "### Assignment:\n",
        "Create a class `Product` with a private attribute `_price`. Use `@property` to get the price, `@price.setter` to update it, and `@price.deleter` to delete it.\n",
        "\n",
        "### Solution:"
      ],
      "metadata": {
        "id": "22upJn6Swrz0"
      }
    },
    {
      "cell_type": "code",
      "source": [
        "class Product:\n",
        "\n",
        "  def __init__(self, price):\n",
        "    self._price = price\n",
        "\n",
        "  @property\n",
        "  def price(self):\n",
        "    return self._price\n",
        "\n",
        "  @price.setter\n",
        "  def price(self, value):\n",
        "    if value < 0:\n",
        "      print(\"Price cannot be negative!\")\n",
        "    else:\n",
        "      self._price = value\n",
        "\n",
        "  @price.deleter\n",
        "  def price(self):\n",
        "    print(\"Price is being deleted\")\n",
        "    del self._price\n",
        "\n",
        "p = Product(100)\n",
        "print(p.price)\n",
        "\n",
        "p.price = 150\n",
        "print(p.price)\n",
        "\n",
        "del p.price"
      ],
      "metadata": {
        "colab": {
          "base_uri": "https://localhost:8080/"
        },
        "id": "Y2emfu2dxcX3",
        "outputId": "842760e1-56c9-4209-9040-0cf5a68b2f52"
      },
      "execution_count": null,
      "outputs": [
        {
          "output_type": "stream",
          "name": "stdout",
          "text": [
            "100\n",
            "150\n",
            "Price is being deleted\n"
          ]
        }
      ]
    },
    {
      "cell_type": "markdown",
      "source": [
        "## 19. `callable()` and `__call__()`\n",
        "### Assignment:\n",
        "Create a class Multiplier with an `__init__()` to set a factor. Define a `__call__()` method that multiplies an input by the factor. Test it with `callable()` and by calling the object like a function.\n",
        "\n",
        "### Solution:"
      ],
      "metadata": {
        "id": "w_Ef6a-ayTNz"
      }
    },
    {
      "cell_type": "code",
      "source": [
        "class Multiplier:\n",
        "  def __init__(self, factor):\n",
        "    self.factor = factor\n",
        "\n",
        "  def __call__(self, x):\n",
        "    return x * self.factor\n",
        "\n",
        "m = Multiplier(4)\n",
        "\n",
        "print(callable(m))\n",
        "\n",
        "result = m(10)\n",
        "print(result)"
      ],
      "metadata": {
        "colab": {
          "base_uri": "https://localhost:8080/"
        },
        "id": "Z-tmJtI9ymyo",
        "outputId": "0363faff-cbdf-40ea-b748-885ebe91d668"
      },
      "execution_count": null,
      "outputs": [
        {
          "output_type": "stream",
          "name": "stdout",
          "text": [
            "True\n",
            "40\n"
          ]
        }
      ]
    },
    {
      "cell_type": "markdown",
      "source": [
        "## 20. Creating a Custom Exception\n",
        "### Assignment:\n",
        "Create a custom exception `InvalidAgeError`. Write a function `check_age(age)` that raises this exception if `age < 18`. Handle it with `try...except`.\n",
        "\n",
        "### Solution:"
      ],
      "metadata": {
        "id": "wDRSU8q5ze1v"
      }
    },
    {
      "cell_type": "code",
      "source": [
        "class InvalidAgeError(Exception):\n",
        "  pass\n",
        "\n",
        "def check_age(age):\n",
        "  if age < 18:\n",
        "    raise InvalidAgeError(\"Age must be 18 or older.\")\n",
        "\n",
        "try:\n",
        "  check_age(16)\n",
        "except InvalidAgeError as e:\n",
        "  print(\"Custom Exception Caught:\", e)\n"
      ],
      "metadata": {
        "colab": {
          "base_uri": "https://localhost:8080/"
        },
        "id": "pJPqwYRnztfZ",
        "outputId": "300381fa-4069-4abf-d15c-86e09036cff6"
      },
      "execution_count": null,
      "outputs": [
        {
          "output_type": "stream",
          "name": "stdout",
          "text": [
            "Custom Exception Caught: Age must be 18 or older.\n"
          ]
        }
      ]
    },
    {
      "cell_type": "markdown",
      "source": [
        "## 21. Make a Custom Class Iterable\n",
        "### Assignment:\n",
        "Create a class `Countdown` that takes a start number. Implement `__iter__()` and `__next__()` to make the object iterable in a for-loop, counting down to 0.\n",
        "\n",
        "### Solution:"
      ],
      "metadata": {
        "id": "OrWPzQf09pnK"
      }
    },
    {
      "cell_type": "code",
      "source": [
        "class Countdown:\n",
        "  def __init__(self, start):\n",
        "    self.current = start\n",
        "\n",
        "  def __iter__(self):\n",
        "    return self\n",
        "\n",
        "  def __next__(self):\n",
        "    if self.current < 0:\n",
        "      raise StopIteration\n",
        "    result = self.current\n",
        "    self.current -= 1\n",
        "    return result\n",
        "\n",
        "\n",
        "for num in Countdown(5):\n",
        "  print(num)"
      ],
      "metadata": {
        "colab": {
          "base_uri": "https://localhost:8080/"
        },
        "id": "0S2ifyTD93qG",
        "outputId": "9522d821-1b15-44a0-eec8-20dfe5f6764d"
      },
      "execution_count": 3,
      "outputs": [
        {
          "output_type": "stream",
          "name": "stdout",
          "text": [
            "5\n",
            "4\n",
            "3\n",
            "2\n",
            "1\n",
            "0\n"
          ]
        }
      ]
    }
  ]
}